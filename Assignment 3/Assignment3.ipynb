{
 "cells": [
  {
   "cell_type": "markdown",
   "metadata": {},
   "source": [
    "# Assignment 3: Build a seq2seq model for machine translation.\n",
    "\n",
    "### Name: Vatsal Shah\n",
    "\n",
    "### Task: Change LSTM model to Bidirectional LSTM Model， translate English to target language and evaluate using Bleu score.\n",
    "\n",
    "### Due Date: Tuesday, April 19th, 11:59PM"
   ]
  },
  {
   "cell_type": "markdown",
   "metadata": {},
   "source": [
    "## 0. You will do the following:\n",
    "\n",
    "1. Read and run the code. Please make sure you have installed keras or tensorflow.Running the script on colab will speed up the training process and also prevent package loading issue. \n",
    "2. Complete the code in Section 1.1, you may fill in your data directory.\n",
    "3. Directly modify the code in Section 3. Change the current LSTM layer to a Bidirectional LSTM Model.\n",
    "4. Training your model and translate English to Spanish in Section 4.2. You could try translating other languages.\n",
    "5. Complete the code in Section 5."
   ]
  },
  {
   "cell_type": "markdown",
   "metadata": {},
   "source": [
    "### Hint: \n",
    "\n",
    "To implement ```Bi-LSTM```, you will need the following code to build the encoder. Do NOT use Bi-LSTM for the decoder. But there are other codes you need to modify to make it work."
   ]
  },
  {
   "cell_type": "code",
   "execution_count": 21,
   "metadata": {},
   "outputs": [],
   "source": [
    "# from keras.layers import Bidirectional, Concatenate\n",
    "\n",
    "# encoder_bilstm = Bidirectional(LSTM(latent_dim, return_state=True, \n",
    "#                                   dropout=0.5, name='encoder_lstm'))\n",
    "# _, forward_h, forward_c, backward_h, backward_c = encoder_bilstm(encoder_inputs)\n",
    "\n",
    "# state_h = Concatenate()([forward_h, backward_h])\n",
    "# state_c = Concatenate()([forward_c, backward_c])"
   ]
  },
  {
   "cell_type": "markdown",
   "metadata": {},
   "source": [
    "## 1. Data preparation (10 points)\n",
    "\n",
    "1. Download spanish-english data from http://www.manythings.org/anki/\n",
    "2. You may try to use other languages.\n",
    "3. Unzip the .ZIP file.\n",
    "4. Put the .TXT file (e.g., \"deu.txt\") in the directory \"./Data/\".\n",
    "5. Fill in your data directory in section 1.1."
   ]
  },
  {
   "cell_type": "markdown",
   "metadata": {},
   "source": [
    "### 1.1. Load and clean text\n"
   ]
  },
  {
   "cell_type": "code",
   "execution_count": 22,
   "metadata": {},
   "outputs": [],
   "source": [
    "import re\n",
    "import string\n",
    "from unicodedata import normalize\n",
    "import numpy\n",
    "\n",
    "# load doc into memory\n",
    "def load_doc(filename):\n",
    "    # open the file as read only\n",
    "    file = open(filename, mode='rt', encoding='utf-8')\n",
    "    # read all text\n",
    "    text = file.read()\n",
    "    # close the file\n",
    "    file.close()\n",
    "    return text\n",
    "\n",
    "\n",
    "# split a loaded document into sentences\n",
    "def to_pairs(doc):\n",
    "    lines = doc.strip().split('\\n')\n",
    "    pairs = [line.split('\\t') for line in  lines]\n",
    "    return pairs\n",
    "\n",
    "def clean_data(lines):\n",
    "    cleaned = list()\n",
    "    # prepare regex for char filtering\n",
    "    re_print = re.compile('[^%s]' % re.escape(string.printable))\n",
    "    # prepare translation table for removing punctuation\n",
    "    table = str.maketrans('', '', string.punctuation)\n",
    "    for pair in lines:\n",
    "        clean_pair = list()\n",
    "        for line in pair:\n",
    "            # normalize unicode characters\n",
    "            line = normalize('NFD', line).encode('ascii', 'ignore')\n",
    "            line = line.decode('UTF-8')\n",
    "            # tokenize on white space\n",
    "            line = line.split()\n",
    "            \n",
    "            # convert to lowercase\n",
    "            line = [word.lower() for word in line]\n",
    "            # remove punctuation from each token\n",
    "            line = [word.translate(table) for word in line]\n",
    "            # remove non-printable chars form each token\n",
    "            line = [re_print.sub('', w) for w in line]\n",
    "            # remove tokens with numbers in them\n",
    "            line = [word for word in line if word.isalpha()]\n",
    "            # store as string\n",
    "            clean_pair.append(' '.join(line))\n",
    "        cleaned.append(clean_pair)\n",
    "    return numpy.array(cleaned)"
   ]
  },
  {
   "cell_type": "markdown",
   "metadata": {},
   "source": [
    "#### Fill the following blanks:"
   ]
  },
  {
   "cell_type": "code",
   "execution_count": 23,
   "metadata": {},
   "outputs": [],
   "source": [
    "# e.g., filename = 'Data/deu.txt'\n",
    "filename = 'spa.txt'\n",
    "\n",
    "# e.g., n_train = 20000\n",
    "n_train = 20000"
   ]
  },
  {
   "cell_type": "code",
   "execution_count": 24,
   "metadata": {},
   "outputs": [],
   "source": [
    "# load dataset\n",
    "doc = load_doc(filename)\n",
    "\n",
    "# split into Language1-Language2 pairs\n",
    "pairs = to_pairs(doc)\n",
    "\n",
    "# clean sentences\n",
    "clean_pairs = clean_data(pairs)[0:n_train, :]"
   ]
  },
  {
   "cell_type": "code",
   "execution_count": 25,
   "metadata": {},
   "outputs": [
    {
     "name": "stdout",
     "output_type": "stream",
     "text": [
      "[youre here] => [estas aqui]\n",
      "[youre here] => [estais aqui]\n",
      "[youre late] => [estas retrasado]\n",
      "[youre lost] => [estas perdido]\n",
      "[youre mean] => [eres mala]\n",
      "[youre mean] => [eres mezquino]\n",
      "[youre mine] => [tu eres mio]\n",
      "[youre nice] => [eres simpatico]\n",
      "[youre nuts] => [estas loco]\n",
      "[youre nuts] => [estas chiflado]\n"
     ]
    }
   ],
   "source": [
    "for i in range(3000, 3010):\n",
    "    print('[' + clean_pairs[i, 0] + '] => [' + clean_pairs[i, 1] + ']')"
   ]
  },
  {
   "cell_type": "code",
   "execution_count": 26,
   "metadata": {},
   "outputs": [
    {
     "name": "stdout",
     "output_type": "stream",
     "text": [
      "Length of input_texts:  (20000,)\n",
      "Length of target_texts: (20000,)\n"
     ]
    }
   ],
   "source": [
    "input_texts = clean_pairs[:, 0]\n",
    "target_texts = ['\\t' + text + '\\n' for text in clean_pairs[:, 1]]\n",
    "\n",
    "print('Length of input_texts:  ' + str(input_texts.shape))\n",
    "print('Length of target_texts: ' + str(input_texts.shape))"
   ]
  },
  {
   "cell_type": "code",
   "execution_count": 27,
   "metadata": {},
   "outputs": [
    {
     "name": "stdout",
     "output_type": "stream",
     "text": [
      "max length of input  sentences: 18\n",
      "max length of target sentences: 55\n"
     ]
    }
   ],
   "source": [
    "max_encoder_seq_length = max(len(line) for line in input_texts)\n",
    "max_decoder_seq_length = max(len(line) for line in target_texts)\n",
    "\n",
    "print('max length of input  sentences: %d' % (max_encoder_seq_length))\n",
    "print('max length of target sentences: %d' % (max_decoder_seq_length))"
   ]
  },
  {
   "cell_type": "markdown",
   "metadata": {},
   "source": [
    "**Remark:** To this end, you have two lists of sentences: input_texts and target_texts"
   ]
  },
  {
   "cell_type": "markdown",
   "metadata": {},
   "source": [
    "## 2. Text processing\n",
    "\n",
    "### 2.1. Convert texts to sequences\n",
    "\n",
    "- Input: A list of $n$ sentences (with max length $t$).\n",
    "- It is represented by a $n\\times t$ matrix after the tokenization and zero-padding."
   ]
  },
  {
   "cell_type": "code",
   "execution_count": 28,
   "metadata": {},
   "outputs": [
    {
     "name": "stdout",
     "output_type": "stream",
     "text": [
      "shape of encoder_input_seq: (20000, 18)\n",
      "shape of input_token_index: 27\n",
      "shape of decoder_input_seq: (20000, 55)\n",
      "shape of target_token_index: 29\n"
     ]
    }
   ],
   "source": [
    "from keras.preprocessing.text import Tokenizer\n",
    "from keras.preprocessing.sequence import pad_sequences\n",
    "\n",
    "# encode and pad sequences\n",
    "def text2sequences(max_len, lines):\n",
    "    tokenizer = Tokenizer(char_level=True, filters='')\n",
    "    tokenizer.fit_on_texts(lines)\n",
    "    seqs = tokenizer.texts_to_sequences(lines)\n",
    "    seqs_pad = pad_sequences(seqs, maxlen=max_len, padding='post')\n",
    "    return seqs_pad, tokenizer.word_index\n",
    "\n",
    "\n",
    "encoder_input_seq, input_token_index = text2sequences(max_encoder_seq_length, \n",
    "                                                      input_texts)\n",
    "decoder_input_seq, target_token_index = text2sequences(max_decoder_seq_length, \n",
    "                                                       target_texts)\n",
    "\n",
    "print('shape of encoder_input_seq: ' + str(encoder_input_seq.shape))\n",
    "print('shape of input_token_index: ' + str(len(input_token_index)))\n",
    "print('shape of decoder_input_seq: ' + str(decoder_input_seq.shape))\n",
    "print('shape of target_token_index: ' + str(len(target_token_index)))"
   ]
  },
  {
   "cell_type": "code",
   "execution_count": 29,
   "metadata": {},
   "outputs": [
    {
     "name": "stdout",
     "output_type": "stream",
     "text": [
      "num_encoder_tokens: 28\n",
      "num_decoder_tokens: 30\n"
     ]
    }
   ],
   "source": [
    "num_encoder_tokens = len(input_token_index) + 1\n",
    "num_decoder_tokens = len(target_token_index) + 1\n",
    "\n",
    "print('num_encoder_tokens: ' + str(num_encoder_tokens))\n",
    "print('num_decoder_tokens: ' + str(num_decoder_tokens))"
   ]
  },
  {
   "cell_type": "markdown",
   "metadata": {},
   "source": [
    "**Remark:** To this end, the input language and target language texts are converted to 2 matrices. \n",
    "\n",
    "- Their number of rows are both n_train.\n",
    "- Their number of columns are respective max_encoder_seq_length and max_decoder_seq_length."
   ]
  },
  {
   "cell_type": "markdown",
   "metadata": {},
   "source": [
    "The followings print a sentence and its representation as a sequence."
   ]
  },
  {
   "cell_type": "code",
   "execution_count": 30,
   "metadata": {},
   "outputs": [
    {
     "data": {
      "text/plain": [
       "'\\tno puede ser\\n'"
      ]
     },
     "execution_count": 30,
     "metadata": {},
     "output_type": "execute_result"
    }
   ],
   "source": [
    "target_texts[100]"
   ]
  },
  {
   "cell_type": "code",
   "execution_count": 31,
   "metadata": {},
   "outputs": [
    {
     "data": {
      "text/plain": [
       "array([ 6,  8,  3,  1, 17, 14,  2, 15,  2,  1,  5,  2, 10,  7,  0,  0,  0,\n",
       "        0,  0,  0,  0,  0,  0,  0,  0,  0,  0,  0,  0,  0,  0,  0,  0,  0,\n",
       "        0,  0,  0,  0,  0,  0,  0,  0,  0,  0,  0,  0,  0,  0,  0,  0,  0,\n",
       "        0,  0,  0,  0])"
      ]
     },
     "execution_count": 31,
     "metadata": {},
     "output_type": "execute_result"
    }
   ],
   "source": [
    "decoder_input_seq[100, :]"
   ]
  },
  {
   "cell_type": "markdown",
   "metadata": {},
   "source": [
    "## 2.2. One-hot encode\n",
    "\n",
    "- Input: A list of $n$ sentences (with max length $t$).\n",
    "- It is represented by a $n\\times t$ matrix after the tokenization and zero-padding.\n",
    "- It is represented by a $n\\times t \\times v$ tensor ($t$ is the number of unique chars) after the one-hot encoding."
   ]
  },
  {
   "cell_type": "code",
   "execution_count": 32,
   "metadata": {},
   "outputs": [
    {
     "name": "stdout",
     "output_type": "stream",
     "text": [
      "(20000, 18, 28)\n",
      "(20000, 55, 30)\n"
     ]
    }
   ],
   "source": [
    "from tensorflow.keras.utils import to_categorical\n",
    "\n",
    "# one hot encode target sequence\n",
    "def onehot_encode(sequences, max_len, vocab_size):\n",
    "    n = len(sequences)\n",
    "    data = numpy.zeros((n, max_len, vocab_size))\n",
    "    for i in range(n):\n",
    "        data[i, :, :] = to_categorical(sequences[i], num_classes=vocab_size)\n",
    "    return data\n",
    "\n",
    "encoder_input_data = onehot_encode(encoder_input_seq, max_encoder_seq_length, num_encoder_tokens)\n",
    "decoder_input_data = onehot_encode(decoder_input_seq, max_decoder_seq_length, num_decoder_tokens)\n",
    "\n",
    "decoder_target_seq = numpy.zeros(decoder_input_seq.shape)\n",
    "decoder_target_seq[:, 0:-1] = decoder_input_seq[:, 1:]\n",
    "decoder_target_data = onehot_encode(decoder_target_seq, \n",
    "                                    max_decoder_seq_length, \n",
    "                                    num_decoder_tokens)\n",
    "\n",
    "print(encoder_input_data.shape)\n",
    "print(decoder_input_data.shape)"
   ]
  },
  {
   "cell_type": "markdown",
   "metadata": {},
   "source": [
    "## 3. Build the networks (for training) (20 points)\n",
    "\n",
    "- In this section, we have already implemented the LSTM model for you. You can run the code and see what the code is doing.  \n",
    "\n",
    "- You need to change the existing LSTM model to a Bidirectional LSTM model. Just modify the network structrue and do not change the training cell in section 3.4.\n",
    "\n",
    "- Build encoder, decoder, and connect the two modules to get \"model\". \n",
    "\n",
    "- Fit the model on the bilingual data to train the parameters in the encoder and decoder.\n",
    "\n"
   ]
  },
  {
   "cell_type": "markdown",
   "metadata": {},
   "source": [
    "### 3.1. Encoder network\n",
    "\n",
    "- Input:  one-hot encode of the input language\n",
    "\n",
    "- Return: \n",
    "\n",
    "    -- output (all the hidden states   $h_1, \\cdots , h_t$) are always discarded\n",
    "    \n",
    "    -- the final hidden state  $h_t$\n",
    "    \n",
    "    -- the final conveyor belt $c_t$"
   ]
  },
  {
   "cell_type": "code",
   "execution_count": 33,
   "metadata": {},
   "outputs": [],
   "source": [
    "from tensorflow.keras.layers import Input, LSTM, Bidirectional, Concatenate\n",
    "from tensorflow.keras.models import Model\n",
    "\n",
    "latent_dim = 128\n",
    "\n",
    "# inputs of the encoder network\n",
    "encoder_inputs = Input(shape=(None, num_encoder_tokens), \n",
    "                       name='encoder_inputs')\n",
    "\n",
    "encoder_bilstm = Bidirectional(LSTM(latent_dim, return_state=True, \n",
    "                                  dropout=0.5, name='encoder_lstm'))\n",
    "_, forward_h, forward_c, backward_h, backward_c = encoder_bilstm(encoder_inputs)\n",
    "\n",
    "state_h = Concatenate()([forward_h, backward_h])\n",
    "state_c = Concatenate()([forward_c, backward_c])\n",
    "\n",
    "# build the encoder network model\n",
    "encoder_model = Model(inputs=encoder_inputs, \n",
    "                      outputs=[state_h, state_c],\n",
    "                      name='encoder')"
   ]
  },
  {
   "cell_type": "markdown",
   "metadata": {},
   "source": [
    "Print a summary and save the encoder network structure to \"./encoder.pdf\""
   ]
  },
  {
   "cell_type": "code",
   "execution_count": 34,
   "metadata": {},
   "outputs": [
    {
     "name": "stdout",
     "output_type": "stream",
     "text": [
      "Model: \"encoder\"\n",
      "__________________________________________________________________________________________________\n",
      "Layer (type)                    Output Shape         Param #     Connected to                     \n",
      "==================================================================================================\n",
      "encoder_inputs (InputLayer)     [(None, None, 28)]   0                                            \n",
      "__________________________________________________________________________________________________\n",
      "bidirectional_1 (Bidirectional) [(None, 256), (None, 160768      encoder_inputs[0][0]             \n",
      "__________________________________________________________________________________________________\n",
      "concatenate_2 (Concatenate)     (None, 256)          0           bidirectional_1[0][1]            \n",
      "                                                                 bidirectional_1[0][3]            \n",
      "__________________________________________________________________________________________________\n",
      "concatenate_3 (Concatenate)     (None, 256)          0           bidirectional_1[0][2]            \n",
      "                                                                 bidirectional_1[0][4]            \n",
      "==================================================================================================\n",
      "Total params: 160,768\n",
      "Trainable params: 160,768\n",
      "Non-trainable params: 0\n",
      "__________________________________________________________________________________________________\n"
     ]
    }
   ],
   "source": [
    "from IPython.display import SVG\n",
    "from keras.utils.vis_utils import model_to_dot, plot_model\n",
    "\n",
    "SVG(model_to_dot(encoder_model, show_shapes=False).create(prog='dot', format='svg'))\n",
    "\n",
    "plot_model(\n",
    "    model=encoder_model, show_shapes=False,\n",
    "    to_file='encoder.pdf'\n",
    ")\n",
    "\n",
    "encoder_model.summary()"
   ]
  },
  {
   "cell_type": "markdown",
   "metadata": {},
   "source": [
    "### 3.2. Decoder network\n",
    "\n",
    "- Inputs:  \n",
    "\n",
    "    -- one-hot encode of the target language\n",
    "    \n",
    "    -- The initial hidden state $h_t$ \n",
    "    \n",
    "    -- The initial conveyor belt $c_t$ \n",
    "\n",
    "- Return: \n",
    "\n",
    "    -- output (all the hidden states) $h_1, \\cdots , h_t$\n",
    "\n",
    "    -- the final hidden state  $h_t$ (discarded in the training and used in the prediction)\n",
    "    \n",
    "    -- the final conveyor belt $c_t$ (discarded in the training and used in the prediction)"
   ]
  },
  {
   "cell_type": "code",
   "execution_count": 35,
   "metadata": {},
   "outputs": [],
   "source": [
    "from keras.layers import Input, LSTM, Dense\n",
    "from keras.models import Model\n",
    "\n",
    "latent_dim = 256\n",
    "# inputs of the decoder network\n",
    "decoder_input_h = Input(shape=(latent_dim,), name='decoder_input_h')\n",
    "decoder_input_c = Input(shape=(latent_dim,), name='decoder_input_c')\n",
    "decoder_input_x = Input(shape=(None, num_decoder_tokens), name='decoder_input_x')\n",
    "\n",
    "# set the LSTM layer\n",
    "decoder_lstm = LSTM(latent_dim, return_sequences=True, \n",
    "                    return_state=True, dropout=0.5, name='decoder_lstm')\n",
    "decoder_lstm_outputs, state_h, state_c = decoder_lstm(decoder_input_x, \n",
    "                                                      initial_state=[decoder_input_h, decoder_input_c])\n",
    "\n",
    "# set the dense layer\n",
    "decoder_dense = Dense(num_decoder_tokens, activation='softmax', name='decoder_dense')\n",
    "decoder_outputs = decoder_dense(decoder_lstm_outputs)\n",
    "\n",
    "# build the decoder network model\n",
    "decoder_model = Model(inputs=[decoder_input_x, decoder_input_h, decoder_input_c],\n",
    "                      outputs=[decoder_outputs, state_h, state_c],\n",
    "                      name='decoder')"
   ]
  },
  {
   "cell_type": "markdown",
   "metadata": {},
   "source": [
    "Print a summary and save the encoder network structure to \"./decoder.pdf\""
   ]
  },
  {
   "cell_type": "code",
   "execution_count": 36,
   "metadata": {},
   "outputs": [
    {
     "name": "stdout",
     "output_type": "stream",
     "text": [
      "Model: \"decoder\"\n",
      "__________________________________________________________________________________________________\n",
      "Layer (type)                    Output Shape         Param #     Connected to                     \n",
      "==================================================================================================\n",
      "decoder_input_x (InputLayer)    [(None, None, 30)]   0                                            \n",
      "__________________________________________________________________________________________________\n",
      "decoder_input_h (InputLayer)    [(None, 256)]        0                                            \n",
      "__________________________________________________________________________________________________\n",
      "decoder_input_c (InputLayer)    [(None, 256)]        0                                            \n",
      "__________________________________________________________________________________________________\n",
      "decoder_lstm (LSTM)             [(None, None, 256),  293888      decoder_input_x[0][0]            \n",
      "                                                                 decoder_input_h[0][0]            \n",
      "                                                                 decoder_input_c[0][0]            \n",
      "__________________________________________________________________________________________________\n",
      "decoder_dense (Dense)           (None, None, 30)     7710        decoder_lstm[0][0]               \n",
      "==================================================================================================\n",
      "Total params: 301,598\n",
      "Trainable params: 301,598\n",
      "Non-trainable params: 0\n",
      "__________________________________________________________________________________________________\n"
     ]
    }
   ],
   "source": [
    "from IPython.display import SVG\n",
    "from keras.utils.vis_utils import model_to_dot, plot_model\n",
    "\n",
    "SVG(model_to_dot(decoder_model, show_shapes=False).create(prog='dot', format='svg'))\n",
    "\n",
    "plot_model(\n",
    "    model=decoder_model, show_shapes=False,\n",
    "    to_file='decoder.pdf'\n",
    ")\n",
    "\n",
    "decoder_model.summary()"
   ]
  },
  {
   "cell_type": "markdown",
   "metadata": {},
   "source": [
    "### 3.3. Connect the encoder and decoder"
   ]
  },
  {
   "cell_type": "code",
   "execution_count": 37,
   "metadata": {},
   "outputs": [],
   "source": [
    "# input layers\n",
    "encoder_input_x = Input(shape=(None, num_encoder_tokens), name='encoder_input_x')\n",
    "decoder_input_x = Input(shape=(None, num_decoder_tokens), name='decoder_input_x')\n",
    "\n",
    "# connect encoder to decoder\n",
    "encoder_final_states = encoder_model([encoder_input_x])\n",
    "decoder_lstm_output, _, _ = decoder_lstm(decoder_input_x, initial_state=encoder_final_states)\n",
    "decoder_pred = decoder_dense(decoder_lstm_output)\n",
    "\n",
    "model = Model(inputs=[encoder_input_x, decoder_input_x], \n",
    "              outputs=decoder_pred, \n",
    "              name='model_training')"
   ]
  },
  {
   "cell_type": "code",
   "execution_count": 38,
   "metadata": {},
   "outputs": [
    {
     "name": "stdout",
     "output_type": "stream",
     "text": [
      "Model: \"model_training\"\n",
      "__________________________________________________________________________________________________\n",
      "Layer (type)                    Output Shape         Param #     Connected to                     \n",
      "==================================================================================================\n",
      "encoder_input_x (InputLayer)    [(None, None, 28)]   0                                            \n",
      "__________________________________________________________________________________________________\n",
      "decoder_input_x (InputLayer)    [(None, None, 30)]   0                                            \n",
      "__________________________________________________________________________________________________\n",
      "encoder (Functional)            [(None, 256), (None, 160768      encoder_input_x[0][0]            \n",
      "__________________________________________________________________________________________________\n",
      "decoder_lstm (LSTM)             [(None, None, 256),  293888      decoder_input_x[0][0]            \n",
      "                                                                 encoder[0][0]                    \n",
      "                                                                 encoder[0][1]                    \n",
      "__________________________________________________________________________________________________\n",
      "decoder_dense (Dense)           (None, None, 30)     7710        decoder_lstm[1][0]               \n",
      "==================================================================================================\n",
      "Total params: 462,366\n",
      "Trainable params: 462,366\n",
      "Non-trainable params: 0\n",
      "__________________________________________________________________________________________________\n"
     ]
    }
   ],
   "source": [
    "from IPython.display import SVG\n",
    "from keras.utils.vis_utils import model_to_dot, plot_model\n",
    "\n",
    "SVG(model_to_dot(model, show_shapes=False).create(prog='dot', format='svg'))\n",
    "\n",
    "plot_model(\n",
    "    model=model, show_shapes=False,\n",
    "    to_file='model_training.pdf'\n",
    ")\n",
    "\n",
    "model.summary()"
   ]
  },
  {
   "cell_type": "markdown",
   "metadata": {},
   "source": [
    "### 3.4. Fit the model on the bilingual dataset\n",
    "\n",
    "- encoder_input_data: one-hot encode of the input language\n",
    "\n",
    "- decoder_input_data: one-hot encode of the input language\n",
    "\n",
    "- decoder_target_data: labels (left shift of decoder_input_data)\n",
    "\n",
    "- tune the hyper-parameters\n",
    "\n",
    "- stop when the validation loss stop decreasing."
   ]
  },
  {
   "cell_type": "code",
   "execution_count": 39,
   "metadata": {},
   "outputs": [
    {
     "name": "stdout",
     "output_type": "stream",
     "text": [
      "shape of encoder_input_data(20000, 18, 28)\n",
      "shape of decoder_input_data(20000, 55, 30)\n",
      "shape of decoder_target_data(20000, 55, 30)\n"
     ]
    }
   ],
   "source": [
    "print('shape of encoder_input_data' + str(encoder_input_data.shape))\n",
    "print('shape of decoder_input_data' + str(decoder_input_data.shape))\n",
    "print('shape of decoder_target_data' + str(decoder_target_data.shape))"
   ]
  },
  {
   "cell_type": "code",
   "execution_count": 40,
   "metadata": {
    "scrolled": true
   },
   "outputs": [
    {
     "name": "stdout",
     "output_type": "stream",
     "text": [
      "Epoch 1/50\n",
      "250/250 [==============================] - 34s 103ms/step - loss: 0.9155 - accuracy: 0.7452 - val_loss: 0.8452 - val_accuracy: 0.7552\n",
      "Epoch 2/50\n",
      "250/250 [==============================] - 18s 73ms/step - loss: 0.7292 - accuracy: 0.7788 - val_loss: 0.7501 - val_accuracy: 0.7718\n",
      "Epoch 3/50\n",
      "250/250 [==============================] - 18s 73ms/step - loss: 0.6937 - accuracy: 0.7888 - val_loss: 0.7074 - val_accuracy: 0.7833\n",
      "Epoch 4/50\n",
      "250/250 [==============================] - 5s 19ms/step - loss: 0.6706 - accuracy: 0.7958 - val_loss: 0.6797 - val_accuracy: 0.7919\n",
      "Epoch 5/50\n",
      "250/250 [==============================] - 5s 19ms/step - loss: 0.6539 - accuracy: 0.8010 - val_loss: 0.6608 - val_accuracy: 0.7983\n",
      "Epoch 6/50\n",
      "250/250 [==============================] - 5s 18ms/step - loss: 0.6379 - accuracy: 0.8058 - val_loss: 0.6351 - val_accuracy: 0.8034\n",
      "Epoch 7/50\n",
      "250/250 [==============================] - 5s 19ms/step - loss: 0.6258 - accuracy: 0.8095 - val_loss: 0.6196 - val_accuracy: 0.8087\n",
      "Epoch 8/50\n",
      "250/250 [==============================] - 5s 19ms/step - loss: 0.6145 - accuracy: 0.8129 - val_loss: 0.6048 - val_accuracy: 0.8120\n",
      "Epoch 9/50\n",
      "250/250 [==============================] - 5s 19ms/step - loss: 0.6046 - accuracy: 0.8159 - val_loss: 0.5964 - val_accuracy: 0.8153\n",
      "Epoch 10/50\n",
      "250/250 [==============================] - 5s 19ms/step - loss: 0.5963 - accuracy: 0.8187 - val_loss: 0.5829 - val_accuracy: 0.8199\n",
      "Epoch 11/50\n",
      "250/250 [==============================] - 5s 19ms/step - loss: 0.5896 - accuracy: 0.8206 - val_loss: 0.5728 - val_accuracy: 0.8228\n",
      "Epoch 12/50\n",
      "250/250 [==============================] - 5s 19ms/step - loss: 0.5819 - accuracy: 0.8230 - val_loss: 0.5646 - val_accuracy: 0.8253\n",
      "Epoch 13/50\n",
      "250/250 [==============================] - 5s 19ms/step - loss: 0.5756 - accuracy: 0.8248 - val_loss: 0.5547 - val_accuracy: 0.8293\n",
      "Epoch 14/50\n",
      "250/250 [==============================] - 5s 19ms/step - loss: 0.5681 - accuracy: 0.8274 - val_loss: 0.5509 - val_accuracy: 0.8296\n",
      "Epoch 15/50\n",
      "250/250 [==============================] - 5s 19ms/step - loss: 0.5623 - accuracy: 0.8292 - val_loss: 0.5456 - val_accuracy: 0.8311\n",
      "Epoch 16/50\n",
      "250/250 [==============================] - 5s 19ms/step - loss: 0.5581 - accuracy: 0.8303 - val_loss: 0.5372 - val_accuracy: 0.8336\n",
      "Epoch 17/50\n",
      "250/250 [==============================] - 5s 20ms/step - loss: 0.5535 - accuracy: 0.8316 - val_loss: 0.5340 - val_accuracy: 0.8348\n",
      "Epoch 18/50\n",
      "250/250 [==============================] - 5s 19ms/step - loss: 0.5491 - accuracy: 0.8329 - val_loss: 0.5303 - val_accuracy: 0.8361\n",
      "Epoch 19/50\n",
      "250/250 [==============================] - 5s 19ms/step - loss: 0.5419 - accuracy: 0.8348 - val_loss: 0.5240 - val_accuracy: 0.8378\n",
      "Epoch 20/50\n",
      "250/250 [==============================] - 5s 21ms/step - loss: 0.5379 - accuracy: 0.8361 - val_loss: 0.5197 - val_accuracy: 0.8397\n",
      "Epoch 21/50\n",
      "250/250 [==============================] - 5s 21ms/step - loss: 0.5355 - accuracy: 0.8371 - val_loss: 0.5145 - val_accuracy: 0.8410\n",
      "Epoch 22/50\n",
      "250/250 [==============================] - 5s 19ms/step - loss: 0.5310 - accuracy: 0.8382 - val_loss: 0.5118 - val_accuracy: 0.8413\n",
      "Epoch 23/50\n",
      "250/250 [==============================] - 5s 19ms/step - loss: 0.5282 - accuracy: 0.8393 - val_loss: 0.5050 - val_accuracy: 0.8438\n",
      "Epoch 24/50\n",
      "250/250 [==============================] - 5s 22ms/step - loss: 0.5251 - accuracy: 0.8402 - val_loss: 0.5027 - val_accuracy: 0.8446\n",
      "Epoch 25/50\n",
      "250/250 [==============================] - 5s 21ms/step - loss: 0.5214 - accuracy: 0.8416 - val_loss: 0.4985 - val_accuracy: 0.8454\n",
      "Epoch 26/50\n",
      "250/250 [==============================] - 5s 22ms/step - loss: 0.5181 - accuracy: 0.8422 - val_loss: 0.4989 - val_accuracy: 0.8469\n",
      "Epoch 27/50\n",
      "250/250 [==============================] - 5s 21ms/step - loss: 0.5150 - accuracy: 0.8434 - val_loss: 0.4969 - val_accuracy: 0.8470\n",
      "Epoch 28/50\n",
      "250/250 [==============================] - 5s 19ms/step - loss: 0.5134 - accuracy: 0.8437 - val_loss: 0.4925 - val_accuracy: 0.8483\n",
      "Epoch 29/50\n",
      "250/250 [==============================] - 5s 19ms/step - loss: 0.5104 - accuracy: 0.8448 - val_loss: 0.4893 - val_accuracy: 0.8496\n",
      "Epoch 30/50\n",
      "250/250 [==============================] - 5s 20ms/step - loss: 0.5071 - accuracy: 0.8456 - val_loss: 0.4857 - val_accuracy: 0.8503\n",
      "Epoch 31/50\n",
      "250/250 [==============================] - 5s 20ms/step - loss: 0.5059 - accuracy: 0.8460 - val_loss: 0.4839 - val_accuracy: 0.8504\n",
      "Epoch 32/50\n",
      "250/250 [==============================] - 5s 19ms/step - loss: 0.5027 - accuracy: 0.8473 - val_loss: 0.4832 - val_accuracy: 0.8498\n",
      "Epoch 33/50\n",
      "250/250 [==============================] - 5s 19ms/step - loss: 0.4999 - accuracy: 0.8476 - val_loss: 0.4807 - val_accuracy: 0.8512\n",
      "Epoch 34/50\n",
      "250/250 [==============================] - 5s 19ms/step - loss: 0.4982 - accuracy: 0.8485 - val_loss: 0.4774 - val_accuracy: 0.8523\n",
      "Epoch 35/50\n",
      "250/250 [==============================] - 5s 18ms/step - loss: 0.4963 - accuracy: 0.8490 - val_loss: 0.4748 - val_accuracy: 0.8537\n",
      "Epoch 36/50\n",
      "250/250 [==============================] - 5s 18ms/step - loss: 0.4916 - accuracy: 0.8503 - val_loss: 0.4743 - val_accuracy: 0.8539\n",
      "Epoch 37/50\n",
      "250/250 [==============================] - 5s 19ms/step - loss: 0.4904 - accuracy: 0.8507 - val_loss: 0.4715 - val_accuracy: 0.8554\n",
      "Epoch 38/50\n",
      "250/250 [==============================] - 5s 20ms/step - loss: 0.4895 - accuracy: 0.8511 - val_loss: 0.4698 - val_accuracy: 0.8555\n",
      "Epoch 39/50\n",
      "250/250 [==============================] - 5s 21ms/step - loss: 0.4872 - accuracy: 0.8517 - val_loss: 0.4726 - val_accuracy: 0.8540\n",
      "Epoch 40/50\n",
      "250/250 [==============================] - 5s 20ms/step - loss: 0.4853 - accuracy: 0.8520 - val_loss: 0.4710 - val_accuracy: 0.8547\n",
      "Epoch 41/50\n",
      "250/250 [==============================] - 5s 20ms/step - loss: 0.4860 - accuracy: 0.8518 - val_loss: 0.4706 - val_accuracy: 0.8551\n",
      "Epoch 42/50\n",
      "250/250 [==============================] - 5s 20ms/step - loss: 0.4825 - accuracy: 0.8530 - val_loss: 0.4649 - val_accuracy: 0.8566\n",
      "Epoch 43/50\n",
      "250/250 [==============================] - 5s 19ms/step - loss: 0.4793 - accuracy: 0.8540 - val_loss: 0.4638 - val_accuracy: 0.8573\n",
      "Epoch 44/50\n",
      "250/250 [==============================] - 5s 21ms/step - loss: 0.4803 - accuracy: 0.8540 - val_loss: 0.4652 - val_accuracy: 0.8559\n",
      "Epoch 45/50\n",
      "250/250 [==============================] - 5s 20ms/step - loss: 0.4772 - accuracy: 0.8547 - val_loss: 0.4641 - val_accuracy: 0.8570\n",
      "Epoch 46/50\n",
      "250/250 [==============================] - 5s 20ms/step - loss: 0.4765 - accuracy: 0.8551 - val_loss: 0.4631 - val_accuracy: 0.8571\n",
      "Epoch 47/50\n",
      "250/250 [==============================] - 5s 20ms/step - loss: 0.4724 - accuracy: 0.8562 - val_loss: 0.4603 - val_accuracy: 0.8581\n",
      "Epoch 48/50\n",
      "250/250 [==============================] - 5s 20ms/step - loss: 0.4723 - accuracy: 0.8559 - val_loss: 0.4587 - val_accuracy: 0.8586\n",
      "Epoch 49/50\n",
      "250/250 [==============================] - 5s 20ms/step - loss: 0.4691 - accuracy: 0.8567 - val_loss: 0.4580 - val_accuracy: 0.8586\n",
      "Epoch 50/50\n",
      "250/250 [==============================] - 5s 20ms/step - loss: 0.4697 - accuracy: 0.8570 - val_loss: 0.4573 - val_accuracy: 0.8587\n"
     ]
    }
   ],
   "source": [
    "model.compile(optimizer='rmsprop', loss='categorical_crossentropy', metrics= ['accuracy'])\n",
    "\n",
    "model.fit([encoder_input_data, decoder_input_data],  # training data\n",
    "          decoder_target_data,                       # labels (left shift of the target sequences)\n",
    "          batch_size=64, epochs=50, validation_split=0.2)\n",
    "\n",
    "model.save('seq2seq.h5')"
   ]
  },
  {
   "cell_type": "markdown",
   "metadata": {},
   "source": [
    "## 4. Make predictions\n",
    "\n",
    "- In this section, you need to complete section 4.2 to translate English to the target language.\n",
    "\n",
    "\n",
    "### 4.1. Translate English to XXX\n",
    "\n",
    "1. Encoder read a sentence (source language) and output its final states, $h_t$ and $c_t$.\n",
    "2. Take the [star] sign \"\\t\" and the final state $h_t$ and $c_t$ as input and run the decoder.\n",
    "3. Get the new states and predicted probability distribution.\n",
    "4. sample a char from the predicted probability distribution\n",
    "5. take the sampled char and the new states as input and repeat the process (stop if reach the [stop] sign \"\\n\")."
   ]
  },
  {
   "cell_type": "code",
   "execution_count": 41,
   "metadata": {},
   "outputs": [],
   "source": [
    "# Reverse-lookup token index to decode sequences back to something readable.\n",
    "reverse_input_char_index = dict((i, char) for char, i in input_token_index.items())\n",
    "reverse_target_char_index = dict((i, char) for char, i in target_token_index.items())"
   ]
  },
  {
   "cell_type": "code",
   "execution_count": 46,
   "metadata": {},
   "outputs": [],
   "source": [
    "def decode_sequence(input_seq):\n",
    "    states_value = encoder_model.predict(input_seq)\n",
    "\n",
    "    target_seq = numpy.zeros((1, 1, num_decoder_tokens))\n",
    "    target_seq[0, 0, target_token_index['\\t']] = 1.\n",
    "\n",
    "    stop_condition = False\n",
    "    decoded_sentence = ''\n",
    "    while not stop_condition:\n",
    "        output_tokens, h, c = decoder_model.predict([target_seq] + states_value)\n",
    "\n",
    "        # this line of code is greedy selection\n",
    "        # try to use multinomial sampling instead (with temperature)\n",
    "        sampled_token_index = numpy.argmax(output_tokens[0, -1, :])\n",
    "        \n",
    "        if sampled_token_index == 0:\n",
    "            break\n",
    "        sampled_char = reverse_target_char_index[sampled_token_index]\n",
    "        decoded_sentence += sampled_char\n",
    "\n",
    "        if (sampled_char == '\\n' or\n",
    "           len(decoded_sentence) > max_decoder_seq_length):\n",
    "            stop_condition = True\n",
    "\n",
    "        target_seq = numpy.zeros((1, 1, num_decoder_tokens))\n",
    "        target_seq[0, 0, sampled_token_index] = 1.\n",
    "\n",
    "        states_value = [h, c]\n",
    "\n",
    "    return decoded_sentence\n"
   ]
  },
  {
   "cell_type": "code",
   "execution_count": 47,
   "metadata": {},
   "outputs": [
    {
     "name": "stdout",
     "output_type": "stream",
     "text": [
      "-\n",
      "English:        hes skinny\n",
      "Spanish (true):  el esta delgado\n",
      "Spanish (pred):  el es a encendo\n",
      "-\n",
      "English:        hes strong\n",
      "Spanish (true):  el es fuerte\n",
      "Spanish (pred):  el es a enfermo\n",
      "-\n",
      "English:        hes stupid\n",
      "Spanish (true):  el es estupido\n",
      "Spanish (pred):  el es a estudido\n",
      "-\n",
      "English:        hes stupid\n",
      "Spanish (true):  no le llega agua al tanque\n",
      "Spanish (pred):  el es a estudido\n",
      "-\n",
      "English:        hes stupid\n",
      "Spanish (true):  es un salame\n",
      "Spanish (pred):  el es a estudido\n",
      "-\n",
      "English:        help me out\n",
      "Spanish (true):  ayudame\n",
      "Spanish (pred):  ayudame a tom\n",
      "-\n",
      "English:        help me out\n",
      "Spanish (true):  ayudame a salir\n",
      "Spanish (pred):  ayudame a tom\n",
      "-\n",
      "English:        help me out\n",
      "Spanish (true):  echeme la mano\n",
      "Spanish (pred):  ayudame a tom\n",
      "-\n",
      "English:        help me out\n",
      "Spanish (true):  ayudame a salir\n",
      "Spanish (pred):  ayudame a tom\n",
      "-\n",
      "English:        here i come\n",
      "Spanish (true):  aqui vengo\n",
      "Spanish (pred):  aqui estamos\n",
      "-\n",
      "English:        here i come\n",
      "Spanish (true):  ya estoy aqui\n",
      "Spanish (pred):  aqui estamos\n",
      "-\n",
      "English:        here she is\n",
      "Spanish (true):  aqui esta ella\n",
      "Spanish (pred):  aqui estas\n",
      "-\n",
      "English:        here we are\n",
      "Spanish (true):  aqui estamos\n",
      "Spanish (pred):  aqui estamos\n",
      "-\n",
      "English:        here we are\n",
      "Spanish (true):  aqui estamos\n",
      "Spanish (pred):  aqui estamos\n",
      "-\n",
      "English:        hi im tom\n",
      "Spanish (true):  hola soy tom\n",
      "Spanish (pred):  es es tom\n",
      "-\n",
      "English:        hit it hard\n",
      "Spanish (true):  dele fuerte\n",
      "Spanish (pred):  este es el perro\n",
      "-\n",
      "English:        how are you\n",
      "Spanish (true):  como estas vos\n",
      "Spanish (pred):  como estas\n",
      "-\n",
      "English:        how curious\n",
      "Spanish (true):  que curioso\n",
      "Spanish (pred):  que taro\n",
      "-\n",
      "English:        how strange\n",
      "Spanish (true):  que raro\n",
      "Spanish (pred):  que tal de tiento\n",
      "-\n",
      "English:        how strange\n",
      "Spanish (true):  que raro\n",
      "Spanish (pred):  que tal de tiento\n"
     ]
    }
   ],
   "source": [
    "for seq_index in range(2100, 2120):\n",
    "    # Take one sequence (part of the training set)\n",
    "    # for trying out decoding.\n",
    "    input_seq = encoder_input_data[seq_index: seq_index + 1]\n",
    "    decoded_sentence = decode_sequence(input_seq)\n",
    "    print('-')\n",
    "    print('English:       ', input_texts[seq_index])\n",
    "    print('Spanish (true): ', target_texts[seq_index][1:-1])\n",
    "    print('Spanish (pred): ', decoded_sentence[0:-1])\n"
   ]
  },
  {
   "cell_type": "markdown",
   "metadata": {},
   "source": [
    "### 4.2. Translate an English sentence to the target language （20 points）\n",
    "\n",
    "1. Tokenization\n",
    "2. One-hot encode\n",
    "3. Translate"
   ]
  },
  {
   "cell_type": "code",
   "execution_count": 48,
   "metadata": {},
   "outputs": [
    {
     "name": "stdout",
     "output_type": "stream",
     "text": [
      "source sentence is: I love you\n",
      "translated sentence is: deja de cansar\n",
      "\n"
     ]
    }
   ],
   "source": [
    "input_sentence = 'I love you'\n",
    "\n",
    "input_sequence, _ = text2sequences(max_encoder_seq_length, [input_sentence])\n",
    "\n",
    "input_x = onehot_encode(input_sequence, max_encoder_seq_length, num_encoder_tokens)\n",
    "\n",
    "translated_sentence = decode_sequence(input_x)\n",
    "\n",
    "print('source sentence is: ' + input_sentence)\n",
    "print('translated sentence is: ' + translated_sentence)"
   ]
  },
  {
   "cell_type": "markdown",
   "metadata": {},
   "source": [
    "# 5. Evaluate the translation using BLEU score\n",
    "\n",
    "- We have already translated from English to target language, but how can we evaluate the performance of our model quantitatively? \n",
    "\n",
    "- In this section, you need to re-train the model we built in secton 3 and then evaluate the bleu score on testing dataset.\n",
    "\n",
    "Reference:\n",
    "\n",
    "https://machinelearningmastery.com/calculate-bleu-score-for-text-python/\n",
    "\n",
    "https://en.wikipedia.org/wiki/BLEU\n",
    "\n",
    "#### Hint:\n",
    "\n",
    "- Randomly partition the dataset to training, validation, and test.\n",
    "\n",
    "- Evaluate the BLEU score using the test set. Report the average.\n",
    "\n",
    "- You may use packages to calculate bleu score, e.g., sentence_bleu() from nltk package."
   ]
  },
  {
   "cell_type": "markdown",
   "metadata": {},
   "source": [
    "### 5.1. Partition the dataset to training, validation, and test. Build new token index. (10 points)\n",
    "\n",
    "1. You may try to load more data/lines from text file.\n",
    "2. Convert text to sequences and build token index using training data.\n",
    "3. One-hot encode your training and validation text sequences."
   ]
  },
  {
   "cell_type": "code",
   "execution_count": 107,
   "metadata": {},
   "outputs": [],
   "source": [
    "def get_clean_target_list(target_test_texts):\n",
    "    result = []\n",
    "    for i in target_test_texts:\n",
    "        result.append('\\t' + i + '\\n')\n",
    "    return result"
   ]
  },
  {
   "cell_type": "code",
   "execution_count": 108,
   "metadata": {},
   "outputs": [
    {
     "name": "stdout",
     "output_type": "stream",
     "text": [
      "Length of input_texts:  (50000,)\n",
      "Length of target_texts: (50000,)\n"
     ]
    }
   ],
   "source": [
    "clean_pairs = clean_data(pairs)[0:50000, :]\n",
    "input_texts = clean_pairs[:, 0]\n",
    "target_texts = get_clean_target_list(clean_pairs[:, 1])\n",
    "\n",
    "print('Length of input_texts:  ' + str(input_texts.shape))\n",
    "print('Length of target_texts: ' + str(input_texts.shape))"
   ]
  },
  {
   "cell_type": "code",
   "execution_count": 109,
   "metadata": {},
   "outputs": [
    {
     "data": {
      "text/plain": [
       "(50000,)"
      ]
     },
     "execution_count": 109,
     "metadata": {},
     "output_type": "execute_result"
    }
   ],
   "source": [
    "input_texts.shape"
   ]
  },
  {
   "cell_type": "code",
   "execution_count": 110,
   "metadata": {},
   "outputs": [
    {
     "data": {
      "text/plain": [
       "50000"
      ]
     },
     "execution_count": 110,
     "metadata": {},
     "output_type": "execute_result"
    }
   ],
   "source": [
    "len(target_texts)"
   ]
  },
  {
   "cell_type": "code",
   "execution_count": 111,
   "metadata": {},
   "outputs": [
    {
     "name": "stdout",
     "output_type": "stream",
     "text": [
      "max length of input  sentences: 24\n",
      "max length of target sentences: 68\n"
     ]
    }
   ],
   "source": [
    "max_encoder_seq_length = max(len(line) for line in input_texts)\n",
    "max_decoder_seq_length = max(len(line) for line in target_texts)\n",
    "\n",
    "print('max length of input  sentences: %d' % (max_encoder_seq_length))\n",
    "print('max length of target sentences: %d' % (max_decoder_seq_length))"
   ]
  },
  {
   "cell_type": "code",
   "execution_count": 112,
   "metadata": {},
   "outputs": [
    {
     "name": "stdout",
     "output_type": "stream",
     "text": [
      "shape of encoder_input_seq: (50000, 24)\n",
      "shape of input_token_index: 27\n",
      "shape of decoder_input_seq: (50000, 68)\n",
      "shape of target_token_index: 29\n"
     ]
    }
   ],
   "source": [
    "encoder_input_seq, input_token_index = text2sequences(max_encoder_seq_length, \n",
    "                                                      input_texts)\n",
    "decoder_input_seq, target_token_index = text2sequences(max_decoder_seq_length, \n",
    "                                                       target_texts)\n",
    "\n",
    "print('shape of encoder_input_seq: ' + str(encoder_input_seq.shape))\n",
    "print('shape of input_token_index: ' + str(len(input_token_index)))\n",
    "print('shape of decoder_input_seq: ' + str(decoder_input_seq.shape))\n",
    "print('shape of target_token_index: ' + str(len(target_token_index)))"
   ]
  },
  {
   "cell_type": "code",
   "execution_count": 113,
   "metadata": {},
   "outputs": [
    {
     "name": "stdout",
     "output_type": "stream",
     "text": [
      "num_encoder_tokens: 28\n",
      "num_decoder_tokens: 30\n"
     ]
    }
   ],
   "source": [
    "num_encoder_tokens = len(input_token_index) + 1\n",
    "num_decoder_tokens = len(target_token_index) + 1\n",
    "\n",
    "print('num_encoder_tokens: ' + str(num_encoder_tokens))\n",
    "print('num_decoder_tokens: ' + str(num_decoder_tokens))"
   ]
  },
  {
   "cell_type": "code",
   "execution_count": 114,
   "metadata": {},
   "outputs": [
    {
     "name": "stdout",
     "output_type": "stream",
     "text": [
      "(50000, 24, 28)\n",
      "(50000, 68, 30)\n"
     ]
    }
   ],
   "source": [
    "encoder_input_data = onehot_encode(encoder_input_seq, max_encoder_seq_length, num_encoder_tokens)\n",
    "decoder_input_data = onehot_encode(decoder_input_seq, max_decoder_seq_length, num_decoder_tokens)\n",
    "\n",
    "decoder_target_seq = numpy.zeros(decoder_input_seq.shape)\n",
    "decoder_target_seq[:, 0:-1] = decoder_input_seq[:, 1:]\n",
    "decoder_target_data = onehot_encode(decoder_target_seq, \n",
    "                                    max_decoder_seq_length, \n",
    "                                    num_decoder_tokens)\n",
    "\n",
    "print(encoder_input_data.shape)\n",
    "print(decoder_input_data.shape)"
   ]
  },
  {
   "cell_type": "code",
   "execution_count": 115,
   "metadata": {},
   "outputs": [],
   "source": [
    "rand_indices = numpy.random.permutation(50000)\n",
    "train_indices = rand_indices[0:40000]\n",
    "valid_indices = rand_indices[40000:45000]\n",
    "test_indices = rand_indices[45000:50000]\n",
    "\n",
    "\n",
    "encoder_input_data_train = encoder_input_data[train_indices,:]\n",
    "encoder_input_data_valid = encoder_input_data[valid_indices,:]\n",
    "encoder_input_data_test = encoder_input_data[test_indices,:] \n",
    "\n",
    "decoder_input_data_train = decoder_input_data[train_indices,:]\n",
    "decoder_input_data_valid = decoder_input_data[valid_indices,:]\n",
    "decoder_input_data_test = decoder_input_data[test_indices,:] \n",
    "\n",
    "\n",
    "decoder_target_data_train = decoder_target_data[train_indices,:]\n",
    "decoder_target_data_valid = decoder_target_data[valid_indices,:]\n",
    "decoder_target_data_test = decoder_target_data[test_indices,:] "
   ]
  },
  {
   "cell_type": "code",
   "execution_count": 116,
   "metadata": {},
   "outputs": [
    {
     "data": {
      "text/plain": [
       "(40000, 24, 28)"
      ]
     },
     "execution_count": 116,
     "metadata": {},
     "output_type": "execute_result"
    }
   ],
   "source": [
    "encoder_input_data_train.shape"
   ]
  },
  {
   "cell_type": "code",
   "execution_count": 117,
   "metadata": {},
   "outputs": [
    {
     "data": {
      "text/plain": [
       "(5000, 24, 28)"
      ]
     },
     "execution_count": 117,
     "metadata": {},
     "output_type": "execute_result"
    }
   ],
   "source": [
    "encoder_input_data_valid.shape"
   ]
  },
  {
   "cell_type": "code",
   "execution_count": 118,
   "metadata": {},
   "outputs": [
    {
     "data": {
      "text/plain": [
       "(5000, 24, 28)"
      ]
     },
     "execution_count": 118,
     "metadata": {},
     "output_type": "execute_result"
    }
   ],
   "source": [
    "encoder_input_data_test.shape"
   ]
  },
  {
   "cell_type": "code",
   "execution_count": 119,
   "metadata": {},
   "outputs": [
    {
     "data": {
      "text/plain": [
       "(40000, 68, 30)"
      ]
     },
     "execution_count": 119,
     "metadata": {},
     "output_type": "execute_result"
    }
   ],
   "source": [
    "decoder_input_data_train.shape"
   ]
  },
  {
   "cell_type": "code",
   "execution_count": 120,
   "metadata": {},
   "outputs": [
    {
     "data": {
      "text/plain": [
       "(5000, 68, 30)"
      ]
     },
     "execution_count": 120,
     "metadata": {},
     "output_type": "execute_result"
    }
   ],
   "source": [
    "decoder_input_data_valid.shape"
   ]
  },
  {
   "cell_type": "code",
   "execution_count": 121,
   "metadata": {},
   "outputs": [
    {
     "data": {
      "text/plain": [
       "(5000, 68, 30)"
      ]
     },
     "execution_count": 121,
     "metadata": {},
     "output_type": "execute_result"
    }
   ],
   "source": [
    "decoder_input_data_test.shape"
   ]
  },
  {
   "cell_type": "code",
   "execution_count": 122,
   "metadata": {},
   "outputs": [
    {
     "data": {
      "text/plain": [
       "(40000, 68, 30)"
      ]
     },
     "execution_count": 122,
     "metadata": {},
     "output_type": "execute_result"
    }
   ],
   "source": [
    "decoder_target_data_train.shape"
   ]
  },
  {
   "cell_type": "code",
   "execution_count": 123,
   "metadata": {},
   "outputs": [
    {
     "data": {
      "text/plain": [
       "(5000, 68, 30)"
      ]
     },
     "execution_count": 123,
     "metadata": {},
     "output_type": "execute_result"
    }
   ],
   "source": [
    "decoder_target_data_valid.shape"
   ]
  },
  {
   "cell_type": "code",
   "execution_count": 124,
   "metadata": {},
   "outputs": [
    {
     "data": {
      "text/plain": [
       "(5000, 68, 30)"
      ]
     },
     "execution_count": 124,
     "metadata": {},
     "output_type": "execute_result"
    }
   ],
   "source": [
    "decoder_target_data_test.shape"
   ]
  },
  {
   "cell_type": "markdown",
   "metadata": {},
   "source": [
    "### 5.2 Retrain your previous Bidirectional LSTM model with training and validation data and tune the parameters (learning rate, optimizer, etc) based on validation score. (25 points)\n",
    "\n",
    "1. Use the model structure in section 3 to train a new model with new training and validation datasets.\n",
    "2. Based on validation BLEU score or loss to tune parameters."
   ]
  },
  {
   "cell_type": "code",
   "execution_count": 125,
   "metadata": {
    "scrolled": true
   },
   "outputs": [
    {
     "name": "stdout",
     "output_type": "stream",
     "text": [
      "Epoch 1/100\n",
      "79/79 [==============================] - 10s 70ms/step - loss: 0.5391 - val_loss: 0.3804\n",
      "Epoch 2/100\n",
      "79/79 [==============================] - 5s 57ms/step - loss: 0.5365 - val_loss: 0.3805\n",
      "Epoch 3/100\n",
      "79/79 [==============================] - 5s 57ms/step - loss: 0.5360 - val_loss: 0.3805\n",
      "Epoch 4/100\n",
      "79/79 [==============================] - 4s 57ms/step - loss: 0.5350 - val_loss: 0.3787\n",
      "Epoch 5/100\n",
      "79/79 [==============================] - 5s 57ms/step - loss: 0.5352 - val_loss: 0.3788\n",
      "Epoch 6/100\n",
      "79/79 [==============================] - 5s 57ms/step - loss: 0.5338 - val_loss: 0.3788\n",
      "Epoch 7/100\n",
      "79/79 [==============================] - 5s 57ms/step - loss: 0.5335 - val_loss: 0.3774\n",
      "Epoch 8/100\n",
      "79/79 [==============================] - 5s 57ms/step - loss: 0.5324 - val_loss: 0.3772\n",
      "Epoch 9/100\n",
      "79/79 [==============================] - 5s 57ms/step - loss: 0.5327 - val_loss: 0.3773\n",
      "Epoch 10/100\n",
      "79/79 [==============================] - 5s 58ms/step - loss: 0.5319 - val_loss: 0.3770\n",
      "Epoch 11/100\n",
      "79/79 [==============================] - 5s 58ms/step - loss: 0.5317 - val_loss: 0.3768\n",
      "Epoch 12/100\n",
      "79/79 [==============================] - 5s 58ms/step - loss: 0.5323 - val_loss: 0.3758\n",
      "Epoch 13/100\n",
      "79/79 [==============================] - 5s 58ms/step - loss: 0.5308 - val_loss: 0.3759\n",
      "Epoch 14/100\n",
      "79/79 [==============================] - 5s 58ms/step - loss: 0.5302 - val_loss: 0.3763\n",
      "Epoch 15/100\n",
      "79/79 [==============================] - 5s 58ms/step - loss: 0.5297 - val_loss: 0.3758\n",
      "Epoch 16/100\n",
      "79/79 [==============================] - 5s 58ms/step - loss: 0.5291 - val_loss: 0.3750\n",
      "Epoch 17/100\n",
      "79/79 [==============================] - 5s 58ms/step - loss: 0.5289 - val_loss: 0.3756\n",
      "Epoch 18/100\n",
      "79/79 [==============================] - 5s 58ms/step - loss: 0.5287 - val_loss: 0.3747\n",
      "Epoch 19/100\n",
      "79/79 [==============================] - 5s 58ms/step - loss: 0.5283 - val_loss: 0.3738\n",
      "Epoch 20/100\n",
      "79/79 [==============================] - 5s 58ms/step - loss: 0.5277 - val_loss: 0.3732\n",
      "Epoch 21/100\n",
      "79/79 [==============================] - 5s 58ms/step - loss: 0.5280 - val_loss: 0.3731\n",
      "Epoch 22/100\n",
      "79/79 [==============================] - 5s 58ms/step - loss: 0.5276 - val_loss: 0.3723\n",
      "Epoch 23/100\n",
      "79/79 [==============================] - 5s 58ms/step - loss: 0.5274 - val_loss: 0.3724\n",
      "Epoch 24/100\n",
      "79/79 [==============================] - 5s 59ms/step - loss: 0.5263 - val_loss: 0.3719\n",
      "Epoch 25/100\n",
      "79/79 [==============================] - 5s 59ms/step - loss: 0.5262 - val_loss: 0.3720\n",
      "Epoch 26/100\n",
      "79/79 [==============================] - 5s 58ms/step - loss: 0.5256 - val_loss: 0.3709\n",
      "Epoch 27/100\n",
      "79/79 [==============================] - 5s 58ms/step - loss: 0.5250 - val_loss: 0.3719\n",
      "Epoch 28/100\n",
      "79/79 [==============================] - 5s 58ms/step - loss: 0.5254 - val_loss: 0.3713\n",
      "Epoch 29/100\n",
      "79/79 [==============================] - 5s 59ms/step - loss: 0.5242 - val_loss: 0.3705\n",
      "Epoch 30/100\n",
      "79/79 [==============================] - 5s 59ms/step - loss: 0.5239 - val_loss: 0.3711\n",
      "Epoch 31/100\n",
      "79/79 [==============================] - 5s 60ms/step - loss: 0.5242 - val_loss: 0.3703\n",
      "Epoch 32/100\n",
      "79/79 [==============================] - 5s 60ms/step - loss: 0.5232 - val_loss: 0.3695\n",
      "Epoch 33/100\n",
      "79/79 [==============================] - 5s 59ms/step - loss: 0.5230 - val_loss: 0.3688\n",
      "Epoch 34/100\n",
      "79/79 [==============================] - 5s 59ms/step - loss: 0.5220 - val_loss: 0.3685\n",
      "Epoch 35/100\n",
      "79/79 [==============================] - 5s 60ms/step - loss: 0.5225 - val_loss: 0.3690\n",
      "Epoch 36/100\n",
      "79/79 [==============================] - 5s 59ms/step - loss: 0.5229 - val_loss: 0.3688\n",
      "Epoch 37/100\n",
      "79/79 [==============================] - 5s 60ms/step - loss: 0.5217 - val_loss: 0.3674\n",
      "Epoch 38/100\n",
      "79/79 [==============================] - 5s 59ms/step - loss: 0.5214 - val_loss: 0.3677\n",
      "Epoch 39/100\n",
      "79/79 [==============================] - 5s 59ms/step - loss: 0.5212 - val_loss: 0.3680\n",
      "Epoch 40/100\n",
      "79/79 [==============================] - 5s 59ms/step - loss: 0.5205 - val_loss: 0.3671\n",
      "Epoch 41/100\n",
      "79/79 [==============================] - 5s 59ms/step - loss: 0.5205 - val_loss: 0.3669\n",
      "Epoch 42/100\n",
      "79/79 [==============================] - 5s 59ms/step - loss: 0.5199 - val_loss: 0.3665\n",
      "Epoch 43/100\n",
      "79/79 [==============================] - 5s 59ms/step - loss: 0.5198 - val_loss: 0.3660\n",
      "Epoch 44/100\n",
      "79/79 [==============================] - 5s 59ms/step - loss: 0.5194 - val_loss: 0.3655\n",
      "Epoch 45/100\n",
      "79/79 [==============================] - 5s 59ms/step - loss: 0.5191 - val_loss: 0.3657\n",
      "Epoch 46/100\n",
      "79/79 [==============================] - 5s 59ms/step - loss: 0.5184 - val_loss: 0.3655\n",
      "Epoch 47/100\n",
      "79/79 [==============================] - 5s 59ms/step - loss: 0.5181 - val_loss: 0.3659\n",
      "Epoch 48/100\n",
      "79/79 [==============================] - 5s 59ms/step - loss: 0.5177 - val_loss: 0.3648\n",
      "Epoch 49/100\n",
      "79/79 [==============================] - 5s 59ms/step - loss: 0.5180 - val_loss: 0.3648\n",
      "Epoch 50/100\n",
      "79/79 [==============================] - 5s 60ms/step - loss: 0.5183 - val_loss: 0.3644\n",
      "Epoch 51/100\n",
      "79/79 [==============================] - 5s 59ms/step - loss: 0.5166 - val_loss: 0.3641\n",
      "Epoch 52/100\n",
      "79/79 [==============================] - 5s 59ms/step - loss: 0.5165 - val_loss: 0.3643\n",
      "Epoch 53/100\n",
      "79/79 [==============================] - 5s 59ms/step - loss: 0.5166 - val_loss: 0.3638\n",
      "Epoch 54/100\n",
      "79/79 [==============================] - 5s 59ms/step - loss: 0.5159 - val_loss: 0.3633\n",
      "Epoch 55/100\n",
      "79/79 [==============================] - 5s 59ms/step - loss: 0.5153 - val_loss: 0.3636\n",
      "Epoch 56/100\n",
      "79/79 [==============================] - 5s 59ms/step - loss: 0.5157 - val_loss: 0.3636\n",
      "Epoch 57/100\n",
      "79/79 [==============================] - 5s 59ms/step - loss: 0.5151 - val_loss: 0.3624\n",
      "Epoch 58/100\n",
      "79/79 [==============================] - 5s 59ms/step - loss: 0.5158 - val_loss: 0.3625\n",
      "Epoch 59/100\n",
      "79/79 [==============================] - 5s 59ms/step - loss: 0.5144 - val_loss: 0.3616\n",
      "Epoch 60/100\n",
      "79/79 [==============================] - 5s 59ms/step - loss: 0.5142 - val_loss: 0.3609\n",
      "Epoch 61/100\n",
      "79/79 [==============================] - 5s 59ms/step - loss: 0.5141 - val_loss: 0.3612\n",
      "Epoch 62/100\n",
      "79/79 [==============================] - 5s 60ms/step - loss: 0.5144 - val_loss: 0.3612\n",
      "Epoch 63/100\n",
      "79/79 [==============================] - 5s 59ms/step - loss: 0.5133 - val_loss: 0.3619\n",
      "Epoch 64/100\n",
      "79/79 [==============================] - 5s 59ms/step - loss: 0.5126 - val_loss: 0.3616\n",
      "Epoch 65/100\n",
      "79/79 [==============================] - 5s 59ms/step - loss: 0.5124 - val_loss: 0.3610\n",
      "Epoch 66/100\n",
      "79/79 [==============================] - 5s 59ms/step - loss: 0.5118 - val_loss: 0.3610\n",
      "Epoch 67/100\n",
      "79/79 [==============================] - 5s 59ms/step - loss: 0.5130 - val_loss: 0.3604\n",
      "Epoch 68/100\n",
      "79/79 [==============================] - 5s 59ms/step - loss: 0.5117 - val_loss: 0.3606\n",
      "Epoch 69/100\n",
      "79/79 [==============================] - 5s 60ms/step - loss: 0.5117 - val_loss: 0.3601\n",
      "Epoch 70/100\n",
      "79/79 [==============================] - 5s 59ms/step - loss: 0.5112 - val_loss: 0.3594\n",
      "Epoch 71/100\n",
      "79/79 [==============================] - 5s 59ms/step - loss: 0.5118 - val_loss: 0.3588\n",
      "Epoch 72/100\n",
      "79/79 [==============================] - 5s 60ms/step - loss: 0.5113 - val_loss: 0.3594\n",
      "Epoch 73/100\n",
      "79/79 [==============================] - 5s 60ms/step - loss: 0.5095 - val_loss: 0.3586\n",
      "Epoch 74/100\n",
      "79/79 [==============================] - 5s 59ms/step - loss: 0.5112 - val_loss: 0.3585\n",
      "Epoch 75/100\n",
      "79/79 [==============================] - 5s 59ms/step - loss: 0.5097 - val_loss: 0.3586\n",
      "Epoch 76/100\n",
      "79/79 [==============================] - 5s 60ms/step - loss: 0.5096 - val_loss: 0.3576\n",
      "Epoch 77/100\n",
      "79/79 [==============================] - 5s 59ms/step - loss: 0.5100 - val_loss: 0.3577\n",
      "Epoch 78/100\n",
      "79/79 [==============================] - 5s 60ms/step - loss: 0.5092 - val_loss: 0.3572\n",
      "Epoch 79/100\n",
      "79/79 [==============================] - 5s 60ms/step - loss: 0.5083 - val_loss: 0.3575\n",
      "Epoch 80/100\n",
      "79/79 [==============================] - 5s 59ms/step - loss: 0.5091 - val_loss: 0.3569\n",
      "Epoch 81/100\n",
      "79/79 [==============================] - 5s 60ms/step - loss: 0.5091 - val_loss: 0.3568\n",
      "Epoch 82/100\n"
     ]
    },
    {
     "name": "stdout",
     "output_type": "stream",
     "text": [
      "79/79 [==============================] - 5s 60ms/step - loss: 0.5077 - val_loss: 0.3564\n",
      "Epoch 83/100\n",
      "79/79 [==============================] - 5s 60ms/step - loss: 0.5076 - val_loss: 0.3562\n",
      "Epoch 84/100\n",
      "79/79 [==============================] - 5s 60ms/step - loss: 0.5080 - val_loss: 0.3566\n",
      "Epoch 85/100\n",
      "79/79 [==============================] - 5s 59ms/step - loss: 0.5082 - val_loss: 0.3563\n",
      "Epoch 86/100\n",
      "79/79 [==============================] - 5s 60ms/step - loss: 0.5075 - val_loss: 0.3560\n",
      "Epoch 87/100\n",
      "79/79 [==============================] - 5s 60ms/step - loss: 0.5074 - val_loss: 0.3554\n",
      "Epoch 88/100\n",
      "79/79 [==============================] - 5s 60ms/step - loss: 0.5064 - val_loss: 0.3557\n",
      "Epoch 89/100\n",
      "79/79 [==============================] - 5s 60ms/step - loss: 0.5062 - val_loss: 0.3547\n",
      "Epoch 90/100\n",
      "79/79 [==============================] - 5s 60ms/step - loss: 0.5061 - val_loss: 0.3551\n",
      "Epoch 91/100\n",
      "79/79 [==============================] - 5s 60ms/step - loss: 0.5065 - val_loss: 0.3547\n",
      "Epoch 92/100\n",
      "79/79 [==============================] - 5s 60ms/step - loss: 0.5060 - val_loss: 0.3544\n",
      "Epoch 93/100\n",
      "79/79 [==============================] - 5s 60ms/step - loss: 0.5055 - val_loss: 0.3535\n",
      "Epoch 94/100\n",
      "79/79 [==============================] - 5s 60ms/step - loss: 0.5055 - val_loss: 0.3537\n",
      "Epoch 95/100\n",
      "79/79 [==============================] - 5s 60ms/step - loss: 0.5049 - val_loss: 0.3532\n",
      "Epoch 96/100\n",
      "79/79 [==============================] - 5s 60ms/step - loss: 0.5054 - val_loss: 0.3535\n",
      "Epoch 97/100\n",
      "79/79 [==============================] - 5s 60ms/step - loss: 0.5037 - val_loss: 0.3529\n",
      "Epoch 98/100\n",
      "79/79 [==============================] - 5s 60ms/step - loss: 0.5043 - val_loss: 0.3532\n",
      "Epoch 99/100\n",
      "79/79 [==============================] - 5s 60ms/step - loss: 0.5036 - val_loss: 0.3526\n",
      "Epoch 100/100\n",
      "79/79 [==============================] - 5s 60ms/step - loss: 0.5039 - val_loss: 0.3520\n"
     ]
    }
   ],
   "source": [
    "model.compile(optimizer=\"adamax\", loss=\"categorical_crossentropy\")\n",
    "\n",
    "model.fit([encoder_input_data_train, decoder_input_data_train], decoder_target_data_train, batch_size = 512, epochs = 100, \n",
    "          validation_data =([encoder_input_data_valid, decoder_input_data_valid], decoder_target_data_valid))\n",
    "\n",
    "model.save('seq2seq_tune.h5')"
   ]
  },
  {
   "cell_type": "code",
   "execution_count": 126,
   "metadata": {},
   "outputs": [
    {
     "name": "stdout",
     "output_type": "stream",
     "text": [
      "-\n",
      "English:        ill be discreet\n",
      "Spanish (true):  sere discreto\n",
      "Spanish (pred):  es\n",
      "-\n",
      "English:        dont tell your dad\n",
      "Spanish (true):  no se lo digas a tu padre\n",
      "Spanish (pred):  \ta \n",
      "-\n",
      "English:        it was an honor\n",
      "Spanish (true):  era un honor\n",
      "Spanish (pred):  fme m\t prableuo\n",
      "-\n",
      "English:        tom became desperate\n",
      "Spanish (true):  tom se desespero\n",
      "Spanish (pred):  \n",
      "-\n",
      "English:        there was a fight\n",
      "Spanish (true):  hubo una pelea\n",
      "Spanish (pred):  hoq m\to coso o uo\to\n",
      "-\n",
      "English:        they never spoke to us\n",
      "Spanish (true):  nunca nos hablaron\n",
      "Spanish (pred):  \tm\tco hobe\t desosioda poro es\n",
      "-\n",
      "English:        im leaving you tomorrow\n",
      "Spanish (true):  manana me despido de ti\n",
      "Spanish (pred):  ue es\n",
      "-\n",
      "English:        ill be free tonight\n",
      "Spanish (true):  estare libre esta noche\n",
      "Spanish (pred):  es\n",
      "-\n",
      "English:        this is on you\n",
      "Spanish (true):  estas pagando por esto\n",
      "Spanish (pred):  es\n",
      "-\n",
      "English:        its very frustrating\n",
      "Spanish (true):  es muy frustrante\n",
      "Spanish (pred):  es umq pro\tceso\n",
      "-\n",
      "English:        my dog is white\n",
      "Spanish (true):  mi perro es blanco\n",
      "Spanish (pred):  ui podre es\n",
      "-\n",
      "English:        you look pale today\n",
      "Spanish (true):  hoy estas un poco paliducho\n",
      "Spanish (pred):  \n",
      "-\n",
      "English:        the men go to work\n",
      "Spanish (true):  los hombres van a trabajar\n",
      "Spanish (pred):  el perra es\n",
      "-\n",
      "English:        this is on you\n",
      "Spanish (true):  esto es culpa tuya\n",
      "Spanish (pred):  es\n",
      "-\n",
      "English:        do you believe that\n",
      "Spanish (true):  lo creeis\n",
      "Spanish (pred):  le ca\taces\n",
      "-\n",
      "English:        theyre hiding\n",
      "Spanish (true):  ellos estan escondidos\n",
      "Spanish (pred):  es\n",
      "-\n",
      "English:        the news was startling\n",
      "Spanish (true):  la noticia fue asombrosa\n",
      "Spanish (pred):  lo coso es\n",
      "-\n",
      "English:        i want to go fishing\n",
      "Spanish (true):  quiero ir de pesca\n",
      "Spanish (pred):  ymiera ir o los co\t\n",
      "-\n",
      "English:        let me try it\n",
      "Spanish (true):  dejame probarlo\n",
      "Spanish (pred):  dejoue ir es\n",
      "-\n",
      "English:        tadpoles become frogs\n",
      "Spanish (true):  los renacuajos se convierten en ranas\n",
      "Spanish (pred):  los pelicios sa\t colodas\n"
     ]
    }
   ],
   "source": [
    "input_test_texts = input_texts[test_indices]\n",
    "target_texts = numpy.array(target_texts)\n",
    "target_test_texts = target_texts[test_indices]\n",
    "\n",
    "predicted_sentences = []\n",
    "\n",
    "# for seq_index in range(2100, 2120):\n",
    "for seq_index in range(2100, 2120):\n",
    "    # Take one sequence (part of the training set)\n",
    "    # for trying out decoding.\n",
    "    input_seq = encoder_input_data_test[seq_index: seq_index + 1]\n",
    "    decoded_sentence = decode_sequence(input_seq)\n",
    "    predicted_sentences.append(decoded_sentence[0:-1])\n",
    "    print('-')\n",
    "    print('English:       ', input_test_texts[seq_index])\n",
    "    print('Spanish (true): ', target_test_texts[seq_index][1:-1])\n",
    "    print('Spanish (pred): ', decoded_sentence[0:-1])"
   ]
  },
  {
   "cell_type": "markdown",
   "metadata": {},
   "source": [
    "### 5.3 Evaluate the BLEU score using the test set. (15 points)\n",
    "\n",
    "1. Use trained model above to calculate the BLEU score with testing dataset."
   ]
  },
  {
   "cell_type": "code",
   "execution_count": 127,
   "metadata": {},
   "outputs": [],
   "source": [
    "def get_target_list(target_test_texts):\n",
    "    result = []\n",
    "    for i in target_test_texts:\n",
    "        result.append(i.split())\n",
    "    return result"
   ]
  },
  {
   "cell_type": "code",
   "execution_count": 128,
   "metadata": {},
   "outputs": [],
   "source": [
    "target_list = get_target_list(target_test_texts[2100:2120])\n",
    "predicted_list = get_target_list(predicted_sentences)"
   ]
  },
  {
   "cell_type": "code",
   "execution_count": 129,
   "metadata": {},
   "outputs": [
    {
     "name": "stdout",
     "output_type": "stream",
     "text": [
      "6.88837174727072e-232\n"
     ]
    }
   ],
   "source": [
    "# Compute the BLEU score\n",
    "from nltk.translate.bleu_score import corpus_bleu\n",
    "\n",
    "references = target_list\n",
    "candidates = predicted_list\n",
    "score = corpus_bleu(references, candidates)\n",
    "print(score)"
   ]
  },
  {
   "cell_type": "code",
   "execution_count": null,
   "metadata": {},
   "outputs": [],
   "source": []
  }
 ],
 "metadata": {
  "kernelspec": {
   "display_name": "Python 3",
   "language": "python",
   "name": "python3"
  },
  "language_info": {
   "codemirror_mode": {
    "name": "ipython",
    "version": 3
   },
   "file_extension": ".py",
   "mimetype": "text/x-python",
   "name": "python",
   "nbconvert_exporter": "python",
   "pygments_lexer": "ipython3",
   "version": "3.9.11"
  }
 },
 "nbformat": 4,
 "nbformat_minor": 2
}
