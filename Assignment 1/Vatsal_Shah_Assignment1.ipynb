{
  "cells": [
    {
      "cell_type": "markdown",
      "metadata": {
        "id": "-ievsTNxbIh9"
      },
      "source": [
        "# HM1: Logistic Regression.\n",
        "\n",
        "### Name: Vatsal Shah\n"
      ]
    },
    {
      "cell_type": "markdown",
      "metadata": {
        "id": "nuuhKkQNbIiT"
      },
      "source": [
        "#### For this assignment, you will build 6 models. You need to train Logistic Regression/Regularized Logistic Regression each with Batch Gradient Descent, Stochastic Gradient Descent and Mini Batch Gradient Descent. Also you should plot their objective values versus epochs and compare their training and testing accuracies. You will need to tune the parameters a little bit to obtain reasonable results.\n",
        "\n",
        "#### You do not have to follow the following procedure. You may implement your own functions and methods, but you need to show your results and plots."
      ]
    },
    {
      "cell_type": "code",
      "execution_count": 1,
      "metadata": {
        "id": "_idlwnvpbIiV"
      },
      "outputs": [],
      "source": [
        "# Load Packages\n",
        "import numpy as np\n",
        "import sklearn \n",
        "from sklearn import preprocessing\n",
        "from sklearn.model_selection import train_test_split\n",
        "import pandas as pd\n"
      ]
    },
    {
      "cell_type": "markdown",
      "metadata": {
        "id": "sNkpzc6CbIiY"
      },
      "source": [
        "# 1. Data processing\n",
        "\n",
        "- Download the Breast Cancer dataset from canvas or from https://archive.ics.uci.edu/ml/datasets/breast+cancer+wisconsin+(diagnostic)\n",
        "- Load the data.\n",
        "- Preprocess the data."
      ]
    },
    {
      "cell_type": "markdown",
      "metadata": {
        "id": "6inbZFk-bIiZ"
      },
      "source": [
        "## 1.1. Load the data"
      ]
    },
    {
      "cell_type": "code",
      "execution_count": 2,
      "metadata": {
        "id": "5CTDXUyUbIia"
      },
      "outputs": [],
      "source": [
        "data = pd.read_csv(\"data.csv\")"
      ]
    },
    {
      "cell_type": "markdown",
      "metadata": {
        "id": "v4WdPFipbIib"
      },
      "source": [
        "## 1.2 Examine and clean data"
      ]
    },
    {
      "cell_type": "code",
      "execution_count": 3,
      "metadata": {
        "colab": {
          "base_uri": "https://localhost:8080/"
        },
        "id": "DaDl0rQ5bIid",
        "outputId": "9b7bcdc0-4635-493c-aa03-12382ea8fc3a"
      },
      "outputs": [
        {
          "output_type": "execute_result",
          "data": {
            "text/plain": [
              "(569, 33)"
            ]
          },
          "metadata": {},
          "execution_count": 3
        }
      ],
      "source": [
        "# Some columns may not be useful for the model (For example, the first column contains ID number which may be irrelavant). \n",
        "# You need to get rid of the ID number feature.\n",
        "# Also you should transform target labels in the second column from 'B' and 'M' to 1 and -1.\n",
        "data.shape"
      ]
    },
    {
      "cell_type": "code",
      "source": [
        "le = preprocessing.LabelEncoder()\n",
        "data = data.drop(\"id\", axis=1)\n",
        "data = data.drop(\"Unnamed: 32\", axis=1)\n",
        "le.fit(data.diagnosis)\n",
        "le.classes_ = le.classes_[::-1]\n",
        "data.diagnosis = le.transform(data.diagnosis)\n",
        "data.diagnosis = data[\"diagnosis\"].replace(0, -1)"
      ],
      "metadata": {
        "id": "l4G7cDJi3KqD"
      },
      "execution_count": 4,
      "outputs": []
    },
    {
      "cell_type": "code",
      "source": [
        "data[\"diagnosis\"].unique()"
      ],
      "metadata": {
        "colab": {
          "base_uri": "https://localhost:8080/"
        },
        "id": "8eZpII_I-D_M",
        "outputId": "5f7a679a-2609-4d6a-9f62-7ee392aab667"
      },
      "execution_count": 5,
      "outputs": [
        {
          "output_type": "execute_result",
          "data": {
            "text/plain": [
              "array([-1,  1])"
            ]
          },
          "metadata": {},
          "execution_count": 5
        }
      ]
    },
    {
      "cell_type": "code",
      "source": [
        "data.shape"
      ],
      "metadata": {
        "colab": {
          "base_uri": "https://localhost:8080/"
        },
        "id": "X4VV-arzEOla",
        "outputId": "b9ac5a94-573b-48e3-85a6-08033e1507e7"
      },
      "execution_count": 6,
      "outputs": [
        {
          "output_type": "execute_result",
          "data": {
            "text/plain": [
              "(569, 31)"
            ]
          },
          "metadata": {},
          "execution_count": 6
        }
      ]
    },
    {
      "cell_type": "code",
      "source": [
        "data"
      ],
      "metadata": {
        "colab": {
          "base_uri": "https://localhost:8080/",
          "height": 505
        },
        "id": "Ck2NiovrY_Ah",
        "outputId": "73a1f7bc-5373-4c78-b26d-1e5232fd123c"
      },
      "execution_count": 28,
      "outputs": [
        {
          "output_type": "execute_result",
          "data": {
            "text/html": [
              "\n",
              "  <div id=\"df-03842a8f-159d-43bb-b2bb-bf060a088963\">\n",
              "    <div class=\"colab-df-container\">\n",
              "      <div>\n",
              "<style scoped>\n",
              "    .dataframe tbody tr th:only-of-type {\n",
              "        vertical-align: middle;\n",
              "    }\n",
              "\n",
              "    .dataframe tbody tr th {\n",
              "        vertical-align: top;\n",
              "    }\n",
              "\n",
              "    .dataframe thead th {\n",
              "        text-align: right;\n",
              "    }\n",
              "</style>\n",
              "<table border=\"1\" class=\"dataframe\">\n",
              "  <thead>\n",
              "    <tr style=\"text-align: right;\">\n",
              "      <th></th>\n",
              "      <th>diagnosis</th>\n",
              "      <th>radius_mean</th>\n",
              "      <th>texture_mean</th>\n",
              "      <th>perimeter_mean</th>\n",
              "      <th>area_mean</th>\n",
              "      <th>smoothness_mean</th>\n",
              "      <th>compactness_mean</th>\n",
              "      <th>concavity_mean</th>\n",
              "      <th>concave points_mean</th>\n",
              "      <th>symmetry_mean</th>\n",
              "      <th>fractal_dimension_mean</th>\n",
              "      <th>radius_se</th>\n",
              "      <th>texture_se</th>\n",
              "      <th>perimeter_se</th>\n",
              "      <th>area_se</th>\n",
              "      <th>smoothness_se</th>\n",
              "      <th>compactness_se</th>\n",
              "      <th>concavity_se</th>\n",
              "      <th>concave points_se</th>\n",
              "      <th>symmetry_se</th>\n",
              "      <th>fractal_dimension_se</th>\n",
              "      <th>radius_worst</th>\n",
              "      <th>texture_worst</th>\n",
              "      <th>perimeter_worst</th>\n",
              "      <th>area_worst</th>\n",
              "      <th>smoothness_worst</th>\n",
              "      <th>compactness_worst</th>\n",
              "      <th>concavity_worst</th>\n",
              "      <th>concave points_worst</th>\n",
              "      <th>symmetry_worst</th>\n",
              "      <th>fractal_dimension_worst</th>\n",
              "    </tr>\n",
              "  </thead>\n",
              "  <tbody>\n",
              "    <tr>\n",
              "      <th>0</th>\n",
              "      <td>-1</td>\n",
              "      <td>17.99</td>\n",
              "      <td>10.38</td>\n",
              "      <td>122.80</td>\n",
              "      <td>1001.0</td>\n",
              "      <td>0.11840</td>\n",
              "      <td>0.27760</td>\n",
              "      <td>0.30010</td>\n",
              "      <td>0.14710</td>\n",
              "      <td>0.2419</td>\n",
              "      <td>0.07871</td>\n",
              "      <td>1.0950</td>\n",
              "      <td>0.9053</td>\n",
              "      <td>8.589</td>\n",
              "      <td>153.40</td>\n",
              "      <td>0.006399</td>\n",
              "      <td>0.04904</td>\n",
              "      <td>0.05373</td>\n",
              "      <td>0.01587</td>\n",
              "      <td>0.03003</td>\n",
              "      <td>0.006193</td>\n",
              "      <td>25.380</td>\n",
              "      <td>17.33</td>\n",
              "      <td>184.60</td>\n",
              "      <td>2019.0</td>\n",
              "      <td>0.16220</td>\n",
              "      <td>0.66560</td>\n",
              "      <td>0.7119</td>\n",
              "      <td>0.2654</td>\n",
              "      <td>0.4601</td>\n",
              "      <td>0.11890</td>\n",
              "    </tr>\n",
              "    <tr>\n",
              "      <th>1</th>\n",
              "      <td>-1</td>\n",
              "      <td>20.57</td>\n",
              "      <td>17.77</td>\n",
              "      <td>132.90</td>\n",
              "      <td>1326.0</td>\n",
              "      <td>0.08474</td>\n",
              "      <td>0.07864</td>\n",
              "      <td>0.08690</td>\n",
              "      <td>0.07017</td>\n",
              "      <td>0.1812</td>\n",
              "      <td>0.05667</td>\n",
              "      <td>0.5435</td>\n",
              "      <td>0.7339</td>\n",
              "      <td>3.398</td>\n",
              "      <td>74.08</td>\n",
              "      <td>0.005225</td>\n",
              "      <td>0.01308</td>\n",
              "      <td>0.01860</td>\n",
              "      <td>0.01340</td>\n",
              "      <td>0.01389</td>\n",
              "      <td>0.003532</td>\n",
              "      <td>24.990</td>\n",
              "      <td>23.41</td>\n",
              "      <td>158.80</td>\n",
              "      <td>1956.0</td>\n",
              "      <td>0.12380</td>\n",
              "      <td>0.18660</td>\n",
              "      <td>0.2416</td>\n",
              "      <td>0.1860</td>\n",
              "      <td>0.2750</td>\n",
              "      <td>0.08902</td>\n",
              "    </tr>\n",
              "    <tr>\n",
              "      <th>2</th>\n",
              "      <td>-1</td>\n",
              "      <td>19.69</td>\n",
              "      <td>21.25</td>\n",
              "      <td>130.00</td>\n",
              "      <td>1203.0</td>\n",
              "      <td>0.10960</td>\n",
              "      <td>0.15990</td>\n",
              "      <td>0.19740</td>\n",
              "      <td>0.12790</td>\n",
              "      <td>0.2069</td>\n",
              "      <td>0.05999</td>\n",
              "      <td>0.7456</td>\n",
              "      <td>0.7869</td>\n",
              "      <td>4.585</td>\n",
              "      <td>94.03</td>\n",
              "      <td>0.006150</td>\n",
              "      <td>0.04006</td>\n",
              "      <td>0.03832</td>\n",
              "      <td>0.02058</td>\n",
              "      <td>0.02250</td>\n",
              "      <td>0.004571</td>\n",
              "      <td>23.570</td>\n",
              "      <td>25.53</td>\n",
              "      <td>152.50</td>\n",
              "      <td>1709.0</td>\n",
              "      <td>0.14440</td>\n",
              "      <td>0.42450</td>\n",
              "      <td>0.4504</td>\n",
              "      <td>0.2430</td>\n",
              "      <td>0.3613</td>\n",
              "      <td>0.08758</td>\n",
              "    </tr>\n",
              "    <tr>\n",
              "      <th>3</th>\n",
              "      <td>-1</td>\n",
              "      <td>11.42</td>\n",
              "      <td>20.38</td>\n",
              "      <td>77.58</td>\n",
              "      <td>386.1</td>\n",
              "      <td>0.14250</td>\n",
              "      <td>0.28390</td>\n",
              "      <td>0.24140</td>\n",
              "      <td>0.10520</td>\n",
              "      <td>0.2597</td>\n",
              "      <td>0.09744</td>\n",
              "      <td>0.4956</td>\n",
              "      <td>1.1560</td>\n",
              "      <td>3.445</td>\n",
              "      <td>27.23</td>\n",
              "      <td>0.009110</td>\n",
              "      <td>0.07458</td>\n",
              "      <td>0.05661</td>\n",
              "      <td>0.01867</td>\n",
              "      <td>0.05963</td>\n",
              "      <td>0.009208</td>\n",
              "      <td>14.910</td>\n",
              "      <td>26.50</td>\n",
              "      <td>98.87</td>\n",
              "      <td>567.7</td>\n",
              "      <td>0.20980</td>\n",
              "      <td>0.86630</td>\n",
              "      <td>0.6869</td>\n",
              "      <td>0.2575</td>\n",
              "      <td>0.6638</td>\n",
              "      <td>0.17300</td>\n",
              "    </tr>\n",
              "    <tr>\n",
              "      <th>4</th>\n",
              "      <td>-1</td>\n",
              "      <td>20.29</td>\n",
              "      <td>14.34</td>\n",
              "      <td>135.10</td>\n",
              "      <td>1297.0</td>\n",
              "      <td>0.10030</td>\n",
              "      <td>0.13280</td>\n",
              "      <td>0.19800</td>\n",
              "      <td>0.10430</td>\n",
              "      <td>0.1809</td>\n",
              "      <td>0.05883</td>\n",
              "      <td>0.7572</td>\n",
              "      <td>0.7813</td>\n",
              "      <td>5.438</td>\n",
              "      <td>94.44</td>\n",
              "      <td>0.011490</td>\n",
              "      <td>0.02461</td>\n",
              "      <td>0.05688</td>\n",
              "      <td>0.01885</td>\n",
              "      <td>0.01756</td>\n",
              "      <td>0.005115</td>\n",
              "      <td>22.540</td>\n",
              "      <td>16.67</td>\n",
              "      <td>152.20</td>\n",
              "      <td>1575.0</td>\n",
              "      <td>0.13740</td>\n",
              "      <td>0.20500</td>\n",
              "      <td>0.4000</td>\n",
              "      <td>0.1625</td>\n",
              "      <td>0.2364</td>\n",
              "      <td>0.07678</td>\n",
              "    </tr>\n",
              "    <tr>\n",
              "      <th>...</th>\n",
              "      <td>...</td>\n",
              "      <td>...</td>\n",
              "      <td>...</td>\n",
              "      <td>...</td>\n",
              "      <td>...</td>\n",
              "      <td>...</td>\n",
              "      <td>...</td>\n",
              "      <td>...</td>\n",
              "      <td>...</td>\n",
              "      <td>...</td>\n",
              "      <td>...</td>\n",
              "      <td>...</td>\n",
              "      <td>...</td>\n",
              "      <td>...</td>\n",
              "      <td>...</td>\n",
              "      <td>...</td>\n",
              "      <td>...</td>\n",
              "      <td>...</td>\n",
              "      <td>...</td>\n",
              "      <td>...</td>\n",
              "      <td>...</td>\n",
              "      <td>...</td>\n",
              "      <td>...</td>\n",
              "      <td>...</td>\n",
              "      <td>...</td>\n",
              "      <td>...</td>\n",
              "      <td>...</td>\n",
              "      <td>...</td>\n",
              "      <td>...</td>\n",
              "      <td>...</td>\n",
              "      <td>...</td>\n",
              "    </tr>\n",
              "    <tr>\n",
              "      <th>564</th>\n",
              "      <td>-1</td>\n",
              "      <td>21.56</td>\n",
              "      <td>22.39</td>\n",
              "      <td>142.00</td>\n",
              "      <td>1479.0</td>\n",
              "      <td>0.11100</td>\n",
              "      <td>0.11590</td>\n",
              "      <td>0.24390</td>\n",
              "      <td>0.13890</td>\n",
              "      <td>0.1726</td>\n",
              "      <td>0.05623</td>\n",
              "      <td>1.1760</td>\n",
              "      <td>1.2560</td>\n",
              "      <td>7.673</td>\n",
              "      <td>158.70</td>\n",
              "      <td>0.010300</td>\n",
              "      <td>0.02891</td>\n",
              "      <td>0.05198</td>\n",
              "      <td>0.02454</td>\n",
              "      <td>0.01114</td>\n",
              "      <td>0.004239</td>\n",
              "      <td>25.450</td>\n",
              "      <td>26.40</td>\n",
              "      <td>166.10</td>\n",
              "      <td>2027.0</td>\n",
              "      <td>0.14100</td>\n",
              "      <td>0.21130</td>\n",
              "      <td>0.4107</td>\n",
              "      <td>0.2216</td>\n",
              "      <td>0.2060</td>\n",
              "      <td>0.07115</td>\n",
              "    </tr>\n",
              "    <tr>\n",
              "      <th>565</th>\n",
              "      <td>-1</td>\n",
              "      <td>20.13</td>\n",
              "      <td>28.25</td>\n",
              "      <td>131.20</td>\n",
              "      <td>1261.0</td>\n",
              "      <td>0.09780</td>\n",
              "      <td>0.10340</td>\n",
              "      <td>0.14400</td>\n",
              "      <td>0.09791</td>\n",
              "      <td>0.1752</td>\n",
              "      <td>0.05533</td>\n",
              "      <td>0.7655</td>\n",
              "      <td>2.4630</td>\n",
              "      <td>5.203</td>\n",
              "      <td>99.04</td>\n",
              "      <td>0.005769</td>\n",
              "      <td>0.02423</td>\n",
              "      <td>0.03950</td>\n",
              "      <td>0.01678</td>\n",
              "      <td>0.01898</td>\n",
              "      <td>0.002498</td>\n",
              "      <td>23.690</td>\n",
              "      <td>38.25</td>\n",
              "      <td>155.00</td>\n",
              "      <td>1731.0</td>\n",
              "      <td>0.11660</td>\n",
              "      <td>0.19220</td>\n",
              "      <td>0.3215</td>\n",
              "      <td>0.1628</td>\n",
              "      <td>0.2572</td>\n",
              "      <td>0.06637</td>\n",
              "    </tr>\n",
              "    <tr>\n",
              "      <th>566</th>\n",
              "      <td>-1</td>\n",
              "      <td>16.60</td>\n",
              "      <td>28.08</td>\n",
              "      <td>108.30</td>\n",
              "      <td>858.1</td>\n",
              "      <td>0.08455</td>\n",
              "      <td>0.10230</td>\n",
              "      <td>0.09251</td>\n",
              "      <td>0.05302</td>\n",
              "      <td>0.1590</td>\n",
              "      <td>0.05648</td>\n",
              "      <td>0.4564</td>\n",
              "      <td>1.0750</td>\n",
              "      <td>3.425</td>\n",
              "      <td>48.55</td>\n",
              "      <td>0.005903</td>\n",
              "      <td>0.03731</td>\n",
              "      <td>0.04730</td>\n",
              "      <td>0.01557</td>\n",
              "      <td>0.01318</td>\n",
              "      <td>0.003892</td>\n",
              "      <td>18.980</td>\n",
              "      <td>34.12</td>\n",
              "      <td>126.70</td>\n",
              "      <td>1124.0</td>\n",
              "      <td>0.11390</td>\n",
              "      <td>0.30940</td>\n",
              "      <td>0.3403</td>\n",
              "      <td>0.1418</td>\n",
              "      <td>0.2218</td>\n",
              "      <td>0.07820</td>\n",
              "    </tr>\n",
              "    <tr>\n",
              "      <th>567</th>\n",
              "      <td>-1</td>\n",
              "      <td>20.60</td>\n",
              "      <td>29.33</td>\n",
              "      <td>140.10</td>\n",
              "      <td>1265.0</td>\n",
              "      <td>0.11780</td>\n",
              "      <td>0.27700</td>\n",
              "      <td>0.35140</td>\n",
              "      <td>0.15200</td>\n",
              "      <td>0.2397</td>\n",
              "      <td>0.07016</td>\n",
              "      <td>0.7260</td>\n",
              "      <td>1.5950</td>\n",
              "      <td>5.772</td>\n",
              "      <td>86.22</td>\n",
              "      <td>0.006522</td>\n",
              "      <td>0.06158</td>\n",
              "      <td>0.07117</td>\n",
              "      <td>0.01664</td>\n",
              "      <td>0.02324</td>\n",
              "      <td>0.006185</td>\n",
              "      <td>25.740</td>\n",
              "      <td>39.42</td>\n",
              "      <td>184.60</td>\n",
              "      <td>1821.0</td>\n",
              "      <td>0.16500</td>\n",
              "      <td>0.86810</td>\n",
              "      <td>0.9387</td>\n",
              "      <td>0.2650</td>\n",
              "      <td>0.4087</td>\n",
              "      <td>0.12400</td>\n",
              "    </tr>\n",
              "    <tr>\n",
              "      <th>568</th>\n",
              "      <td>1</td>\n",
              "      <td>7.76</td>\n",
              "      <td>24.54</td>\n",
              "      <td>47.92</td>\n",
              "      <td>181.0</td>\n",
              "      <td>0.05263</td>\n",
              "      <td>0.04362</td>\n",
              "      <td>0.00000</td>\n",
              "      <td>0.00000</td>\n",
              "      <td>0.1587</td>\n",
              "      <td>0.05884</td>\n",
              "      <td>0.3857</td>\n",
              "      <td>1.4280</td>\n",
              "      <td>2.548</td>\n",
              "      <td>19.15</td>\n",
              "      <td>0.007189</td>\n",
              "      <td>0.00466</td>\n",
              "      <td>0.00000</td>\n",
              "      <td>0.00000</td>\n",
              "      <td>0.02676</td>\n",
              "      <td>0.002783</td>\n",
              "      <td>9.456</td>\n",
              "      <td>30.37</td>\n",
              "      <td>59.16</td>\n",
              "      <td>268.6</td>\n",
              "      <td>0.08996</td>\n",
              "      <td>0.06444</td>\n",
              "      <td>0.0000</td>\n",
              "      <td>0.0000</td>\n",
              "      <td>0.2871</td>\n",
              "      <td>0.07039</td>\n",
              "    </tr>\n",
              "  </tbody>\n",
              "</table>\n",
              "<p>569 rows × 31 columns</p>\n",
              "</div>\n",
              "      <button class=\"colab-df-convert\" onclick=\"convertToInteractive('df-03842a8f-159d-43bb-b2bb-bf060a088963')\"\n",
              "              title=\"Convert this dataframe to an interactive table.\"\n",
              "              style=\"display:none;\">\n",
              "        \n",
              "  <svg xmlns=\"http://www.w3.org/2000/svg\" height=\"24px\"viewBox=\"0 0 24 24\"\n",
              "       width=\"24px\">\n",
              "    <path d=\"M0 0h24v24H0V0z\" fill=\"none\"/>\n",
              "    <path d=\"M18.56 5.44l.94 2.06.94-2.06 2.06-.94-2.06-.94-.94-2.06-.94 2.06-2.06.94zm-11 1L8.5 8.5l.94-2.06 2.06-.94-2.06-.94L8.5 2.5l-.94 2.06-2.06.94zm10 10l.94 2.06.94-2.06 2.06-.94-2.06-.94-.94-2.06-.94 2.06-2.06.94z\"/><path d=\"M17.41 7.96l-1.37-1.37c-.4-.4-.92-.59-1.43-.59-.52 0-1.04.2-1.43.59L10.3 9.45l-7.72 7.72c-.78.78-.78 2.05 0 2.83L4 21.41c.39.39.9.59 1.41.59.51 0 1.02-.2 1.41-.59l7.78-7.78 2.81-2.81c.8-.78.8-2.07 0-2.86zM5.41 20L4 18.59l7.72-7.72 1.47 1.35L5.41 20z\"/>\n",
              "  </svg>\n",
              "      </button>\n",
              "      \n",
              "  <style>\n",
              "    .colab-df-container {\n",
              "      display:flex;\n",
              "      flex-wrap:wrap;\n",
              "      gap: 12px;\n",
              "    }\n",
              "\n",
              "    .colab-df-convert {\n",
              "      background-color: #E8F0FE;\n",
              "      border: none;\n",
              "      border-radius: 50%;\n",
              "      cursor: pointer;\n",
              "      display: none;\n",
              "      fill: #1967D2;\n",
              "      height: 32px;\n",
              "      padding: 0 0 0 0;\n",
              "      width: 32px;\n",
              "    }\n",
              "\n",
              "    .colab-df-convert:hover {\n",
              "      background-color: #E2EBFA;\n",
              "      box-shadow: 0px 1px 2px rgba(60, 64, 67, 0.3), 0px 1px 3px 1px rgba(60, 64, 67, 0.15);\n",
              "      fill: #174EA6;\n",
              "    }\n",
              "\n",
              "    [theme=dark] .colab-df-convert {\n",
              "      background-color: #3B4455;\n",
              "      fill: #D2E3FC;\n",
              "    }\n",
              "\n",
              "    [theme=dark] .colab-df-convert:hover {\n",
              "      background-color: #434B5C;\n",
              "      box-shadow: 0px 1px 3px 1px rgba(0, 0, 0, 0.15);\n",
              "      filter: drop-shadow(0px 1px 2px rgba(0, 0, 0, 0.3));\n",
              "      fill: #FFFFFF;\n",
              "    }\n",
              "  </style>\n",
              "\n",
              "      <script>\n",
              "        const buttonEl =\n",
              "          document.querySelector('#df-03842a8f-159d-43bb-b2bb-bf060a088963 button.colab-df-convert');\n",
              "        buttonEl.style.display =\n",
              "          google.colab.kernel.accessAllowed ? 'block' : 'none';\n",
              "\n",
              "        async function convertToInteractive(key) {\n",
              "          const element = document.querySelector('#df-03842a8f-159d-43bb-b2bb-bf060a088963');\n",
              "          const dataTable =\n",
              "            await google.colab.kernel.invokeFunction('convertToInteractive',\n",
              "                                                     [key], {});\n",
              "          if (!dataTable) return;\n",
              "\n",
              "          const docLinkHtml = 'Like what you see? Visit the ' +\n",
              "            '<a target=\"_blank\" href=https://colab.research.google.com/notebooks/data_table.ipynb>data table notebook</a>'\n",
              "            + ' to learn more about interactive tables.';\n",
              "          element.innerHTML = '';\n",
              "          dataTable['output_type'] = 'display_data';\n",
              "          await google.colab.output.renderOutput(dataTable, element);\n",
              "          const docLink = document.createElement('div');\n",
              "          docLink.innerHTML = docLinkHtml;\n",
              "          element.appendChild(docLink);\n",
              "        }\n",
              "      </script>\n",
              "    </div>\n",
              "  </div>\n",
              "  "
            ],
            "text/plain": [
              "     diagnosis  radius_mean  ...  symmetry_worst  fractal_dimension_worst\n",
              "0           -1        17.99  ...          0.4601                  0.11890\n",
              "1           -1        20.57  ...          0.2750                  0.08902\n",
              "2           -1        19.69  ...          0.3613                  0.08758\n",
              "3           -1        11.42  ...          0.6638                  0.17300\n",
              "4           -1        20.29  ...          0.2364                  0.07678\n",
              "..         ...          ...  ...             ...                      ...\n",
              "564         -1        21.56  ...          0.2060                  0.07115\n",
              "565         -1        20.13  ...          0.2572                  0.06637\n",
              "566         -1        16.60  ...          0.2218                  0.07820\n",
              "567         -1        20.60  ...          0.4087                  0.12400\n",
              "568          1         7.76  ...          0.2871                  0.07039\n",
              "\n",
              "[569 rows x 31 columns]"
            ]
          },
          "metadata": {},
          "execution_count": 28
        }
      ]
    },
    {
      "cell_type": "markdown",
      "metadata": {
        "id": "5X89p4bbbIif"
      },
      "source": [
        "## 1.3. Partition to training and testing sets"
      ]
    },
    {
      "cell_type": "code",
      "execution_count": 30,
      "metadata": {
        "id": "_kdGBG13bIig"
      },
      "outputs": [],
      "source": [
        "# You can partition using 80% training data and 20% testing data. It is a commonly used ratio in machinel learning.\n",
        "x_train, x_test, y_train, y_test = train_test_split(data.iloc[:,1:31], data.diagnosis, train_size=0.8, test_size=0.2, random_state=0)"
      ]
    },
    {
      "cell_type": "markdown",
      "metadata": {
        "id": "Ilyp60HSbIii"
      },
      "source": [
        "## 1.4. Feature scaling"
      ]
    },
    {
      "cell_type": "markdown",
      "metadata": {
        "id": "WdKbu0pVbIij"
      },
      "source": [
        "Use the standardization to trainsform both training and test features"
      ]
    },
    {
      "cell_type": "code",
      "execution_count": 32,
      "metadata": {
        "colab": {
          "base_uri": "https://localhost:8080/"
        },
        "id": "LkB9ouP4bIik",
        "outputId": "a61188b8-1f2b-4056-fbde-e46a91d99966"
      },
      "outputs": [
        {
          "output_type": "stream",
          "name": "stdout",
          "text": [
            "test mean = \n",
            "radius_mean                0.020907\n",
            "texture_mean               0.164319\n",
            "perimeter_mean             0.030981\n",
            "area_mean                  0.014927\n",
            "smoothness_mean           -0.019211\n",
            "compactness_mean           0.101172\n",
            "concavity_mean             0.084439\n",
            "concave points_mean        0.029660\n",
            "symmetry_mean              0.040621\n",
            "fractal_dimension_mean     0.094946\n",
            "radius_se                  0.046538\n",
            "texture_se                 0.064287\n",
            "perimeter_se               0.100075\n",
            "area_se                    0.005387\n",
            "smoothness_se              0.066020\n",
            "compactness_se             0.118395\n",
            "concavity_se               0.067615\n",
            "concave points_se          0.126894\n",
            "symmetry_se                0.010380\n",
            "fractal_dimension_se       0.161937\n",
            "radius_worst               0.013377\n",
            "texture_worst              0.113419\n",
            "perimeter_worst            0.033903\n",
            "area_worst                -0.005170\n",
            "smoothness_worst          -0.020016\n",
            "compactness_worst          0.078428\n",
            "concavity_worst            0.117564\n",
            "concave points_worst       0.012128\n",
            "symmetry_worst            -0.027007\n",
            "fractal_dimension_worst    0.127447\n",
            "dtype: float64\n",
            "test std = \n",
            "radius_mean                0.984840\n",
            "texture_mean               1.152213\n",
            "perimeter_mean             0.997834\n",
            "area_mean                  0.910614\n",
            "smoothness_mean            1.093246\n",
            "compactness_mean           1.209947\n",
            "concavity_mean             1.116129\n",
            "concave points_mean        1.026998\n",
            "symmetry_mean              1.003385\n",
            "fractal_dimension_mean     1.163879\n",
            "radius_se                  0.869296\n",
            "texture_se                 1.085816\n",
            "perimeter_se               0.957380\n",
            "area_se                    0.737976\n",
            "smoothness_se              1.253428\n",
            "compactness_se             1.104842\n",
            "concavity_se               0.841179\n",
            "concave points_se          1.209135\n",
            "symmetry_se                1.042763\n",
            "fractal_dimension_se       1.058563\n",
            "radius_worst               0.941122\n",
            "texture_worst              1.032902\n",
            "perimeter_worst            0.960713\n",
            "area_worst                 0.846294\n",
            "smoothness_worst           1.045669\n",
            "compactness_worst          1.129954\n",
            "concavity_worst            1.204499\n",
            "concave points_worst       1.032070\n",
            "symmetry_worst             0.908280\n",
            "fractal_dimension_worst    1.062407\n",
            "dtype: float64\n"
          ]
        }
      ],
      "source": [
        "# Standardization\n",
        "\n",
        "# calculate mu and sig using the training set\n",
        "d = x_train.shape[1]\n",
        "mu = np.mean(x_train, axis=0).values.reshape(1, d)\n",
        "sig = np.std(x_train, axis=0).values.reshape(1, d)\n",
        "\n",
        "# transform the training features\n",
        "x_train = (x_train - mu) / (sig + 1E-6)\n",
        "\n",
        "# transform the test features\n",
        "x_test = (x_test - mu) / (sig + 1E-6)\n",
        "\n",
        "print('test mean = ')\n",
        "print(np.mean(x_test, axis=0))\n",
        "\n",
        "print('test std = ')\n",
        "print(np.std(x_test, axis=0))"
      ]
    },
    {
      "cell_type": "code",
      "source": [
        "train, d = x_train.shape\n",
        "x_train = np.concatenate((x_train, np.ones((train, 1))), axis=1)\n",
        "test, d = x_test.shape\n",
        "x_test = np.concatenate((x_test, np.ones((test, 1))), axis=1\n",
        "                      )"
      ],
      "metadata": {
        "id": "5axhmPhud1KQ"
      },
      "execution_count": 41,
      "outputs": []
    },
    {
      "cell_type": "markdown",
      "metadata": {
        "id": "8YV0Zy5KbIim"
      },
      "source": [
        "# 2.  Logistic Regression Model\n",
        "\n",
        "The objective function is $Q (w; X, y) = \\frac{1}{n} \\sum_{i=1}^n \\log \\Big( 1 + \\exp \\big( - y_i x_i^T w \\big) \\Big) + \\frac{\\lambda}{2} \\| w \\|_2^2 $.\n",
        "\n",
        "When $\\lambda = 0$, the model is a regular logistric regression and when $\\lambda > 0$, it essentially becomes a regularized logistric regression."
      ]
    },
    {
      "cell_type": "code",
      "execution_count": 42,
      "metadata": {
        "id": "L-Ax01u8bIin"
      },
      "outputs": [],
      "source": [
        "# Calculate the objective function value, or loss\n",
        "# Inputs:\n",
        "#     w: weight: d-by-1 matrix\n",
        "#     x: data: n-by-d matrix\n",
        "#     y: label: n-by-1 matrix\n",
        "#     lam: regularization parameter: scalar\n",
        "# Return:\n",
        "#     objective function value, or loss (scalar)\n",
        "def objective(w, x, y, lam):\n",
        "  yxT = np.multiply(y, x)\n",
        "  yxTw = np.dot(yxT, w)\n",
        "  Q = np.mean(np.log(1 + np.exp(-yxTw))) + ((lam / 2) * np.square(np.sum(w)))\n",
        "  \n",
        "  return Q"
      ]
    },
    {
      "cell_type": "markdown",
      "metadata": {
        "id": "nW1mhJ9IbIio"
      },
      "source": [
        "# 3. Numerical optimization"
      ]
    },
    {
      "cell_type": "markdown",
      "metadata": {
        "id": "Gk4PO1nHbIip"
      },
      "source": [
        "## 3.1. Gradient descent\n"
      ]
    },
    {
      "cell_type": "markdown",
      "metadata": {
        "id": "q2CZMYwGbIip"
      },
      "source": [
        "The gradient at $w$ for regularized logistic regression is  $g = - \\frac{1}{n} \\sum_{i=1}^n \\frac{y_i x_i }{1 + \\exp ( y_i x_i^T w)} + \\lambda w$"
      ]
    },
    {
      "cell_type": "code",
      "execution_count": 43,
      "metadata": {
        "id": "pTvuBZXEbIiq"
      },
      "outputs": [],
      "source": [
        "# Calculate the gradient\n",
        "# Inputs:\n",
        "#     w: weight: d-by-1 matrix\n",
        "#     x: data: n-by-d matrix\n",
        "#     y: label: n-by-1 matrix\n",
        "#     lam: regularization parameter: scalar\n",
        "# Return:\n",
        "#     g: gradient: d-by-1 matrix\n",
        "\n",
        "def gradient(w, x, y, lam):\n",
        "  # print(w.shape, x.shape)\n",
        "  yxT = np.multiply(y, x)\n",
        "  yxTw = np.dot(yxT, w)\n",
        "\n",
        "  g = -np.mean(np.divide(yxT,(1 + np.exp(yxTw))),axis = 0).reshape(x.shape[1],1) + lam * w\n",
        "  \n",
        "  return g"
      ]
    },
    {
      "cell_type": "code",
      "execution_count": 94,
      "metadata": {
        "id": "tf9eGWHnbIir"
      },
      "outputs": [],
      "source": [
        "# Gradient descent for solving logistic regression\n",
        "# You will need to do iterative process (loops) to obtain optimal weights in this function\n",
        "\n",
        "# Inputs:\n",
        "#     x: data: n-by-d matrix\n",
        "#     y: label: n-by-1 matrix\n",
        "#     lam: scalar, the regularization parameter\n",
        "#     learning_rate: scalar\n",
        "#     w: weights: d-by-1 matrix, initialization of w\n",
        "#     max_epoch: integer, the maximal epochs\n",
        "# Return:\n",
        "#     w: weights: d-by-1 matrix, the solution\n",
        "#     objvals: a record of each epoch's objective value\n",
        "\n",
        "def gradient_descent(x, y, lam, learning_rate, max_epoch=100):\n",
        "    objvals = np.zeros(max_epoch)\n",
        "\n",
        "    w = np.zeros((x.shape[1], 1))\n",
        "    \n",
        "\n",
        "    y = np.array(y).reshape(x.shape[0],1)\n",
        "        \n",
        "    for i in range(max_epoch):\n",
        "        g = gradient(w, x, y, lam)\n",
        "        w -= learning_rate * g\n",
        "        objval = objective(w, x, y, lam)\n",
        "        objvals[i] = objval\n",
        "    return w, objvals"
      ]
    },
    {
      "cell_type": "markdown",
      "metadata": {
        "id": "zNso1fN5bIis"
      },
      "source": [
        "Use gradient_descent function to obtain your optimal weights and a list of objective values over each epoch."
      ]
    },
    {
      "cell_type": "code",
      "execution_count": 95,
      "metadata": {
        "id": "ChHGMRsPbIit"
      },
      "outputs": [],
      "source": [
        "# Train logistic regression\n",
        "# You should get the optimal weights and a list of objective values by using gradient_descent function.\n",
        "\n",
        "w, objvals = gradient_descent(x_train, y_train, 0, 0.1,1000)"
      ]
    },
    {
      "cell_type": "code",
      "execution_count": 89,
      "metadata": {
        "id": "SvUW66kIbIit"
      },
      "outputs": [],
      "source": [
        "# Train regularized logistric regression\n",
        "# You should get the optimal weights and a list of objective values by using gradient_descent function.\n",
        "lam = 1E-6\n",
        "w_reg, objvals_reg = gradient_descent(x_train, y_train, lam, 0.1, 1000)"
      ]
    },
    {
      "cell_type": "markdown",
      "metadata": {
        "id": "qVNzctZUbIiu"
      },
      "source": [
        "## 3.2. Stochastic gradient descent (SGD)\n",
        "\n",
        "Define new objective function $Q_i (w) = \\log \\Big( 1 + \\exp \\big( - y_i x_i^T w \\big) \\Big) + \\frac{\\lambda}{2} \\| w \\|_2^2 $. \n",
        "\n",
        "The stochastic gradient at $w$ is $g_i = \\frac{\\partial Q_i }{ \\partial w} = -\\frac{y_i x_i }{1 + \\exp ( y_i x_i^T w)} + \\lambda w$.\n",
        "\n",
        "You may need to implement a new function to calculate the new objective function and gradients."
      ]
    },
    {
      "cell_type": "code",
      "execution_count": 14,
      "metadata": {
        "id": "uI4FKv9hbIiv"
      },
      "outputs": [],
      "source": [
        "# Calculate the objective Q_i and the gradient of Q_i\n",
        "# Inputs:\n",
        "#     w: weights: d-by-1 matrix\n",
        "#     xi: data: 1-by-d matrix\n",
        "#     yi: label: scalar\n",
        "#     lam: scalar, the regularization parameter\n",
        "# Return:\n",
        "#     obj: scalar, the objective Q_i\n",
        "#     g: d-by-1 matrix, gradient of Q_i\n",
        "\n",
        "def stochastic_objective_gradient(w, xi, yi, lam):\n",
        "  yixi = np.multiply(yi,xi)\n",
        "  yixiw = np.dot(yixi,w)\n",
        "  a = np.log(1+ np.exp(-yixiw))\n",
        "  b = (lam/2) * np.sum(np.square(w))\n",
        "  obj = a + b\n",
        "  c = -(np.multiply(yi,xi)) / (1+ np.exp(yixiw)) \n",
        "  d = (lam * w).reshape(xi.shape[0])\n",
        "  g = c + d\n",
        "  # print(g.shape)\n",
        "  return obj, g"
      ]
    },
    {
      "cell_type": "markdown",
      "metadata": {
        "id": "PnqvFP1abIiv"
      },
      "source": [
        "Hints:\n",
        "1. In every epoch, randomly permute the $n$ samples.\n",
        "2. Each epoch has $n$ iterations. In every iteration, use 1 sample, and compute the gradient and objective using the ``stochastic_objective_gradient`` function. In the next iteration, use the next sample, and so on."
      ]
    },
    {
      "cell_type": "code",
      "execution_count": 102,
      "metadata": {
        "id": "6pI065OdbIiw"
      },
      "outputs": [],
      "source": [
        "# SGD for solving logistic regression\n",
        "# You will need to do iterative process (loops) to obtain optimal weights in this function\n",
        "\n",
        "# Inputs:\n",
        "#     x: data: n-by-d matrix\n",
        "#     y: label: n-by-1 matrix\n",
        "#     lam: scalar, the regularization parameter\n",
        "#     learning_rate: scalar\n",
        "#     w: weights: d-by-1 matrix, initialization of w\n",
        "#     max_epoch: integer, the maximal epochs\n",
        "# Return:\n",
        "#     \n",
        "#     w: weights: d-by-1 matrix, the solution\n",
        "#     objvals: a record of each epoch's objective value\n",
        "#     Record one objective value per epoch (not per iteration)\n",
        "\n",
        "def sgd(x, y, lam, learning_rate, max_epoch=100):\n",
        "  objvals = [0] * max_epoch\n",
        "  # print(y.shape)\n",
        "  w = np.zeros((x.shape[1],1)) \n",
        "  \n",
        "  y = np.array(y).reshape((x.shape[0], 1))\n",
        "\n",
        "  for i in range(max_epoch):\n",
        "    random_samples = np.random.permutation(x.shape[0])\n",
        "    x_rand_samples = x[random_samples,: ]\n",
        "    y_rand_samples = y[random_samples,:]\n",
        "\n",
        "    objval = 0\n",
        "    for j in range(x.shape[0]):\n",
        "      xi = x_rand_samples[j,:]\n",
        "      # print(xi.shape)\n",
        "      yi = float(y_rand_samples[j,:])\n",
        "      obj, g = stochastic_objective_gradient(w, xi, yi, lam)\n",
        "      objval += obj\n",
        "      w-= (learning_rate * g.reshape((x.shape[1],1)))     \n",
        "    objval /= x.shape[0]\n",
        "    objvals[i] = objval\n",
        "\n",
        "  return w, objvals"
      ]
    },
    {
      "cell_type": "markdown",
      "metadata": {
        "id": "fcD5eGR4bIix"
      },
      "source": [
        "Use sgd function to obtain your optimal weights and a list of objective values over each epoch."
      ]
    },
    {
      "cell_type": "code",
      "execution_count": 103,
      "metadata": {
        "id": "BaQo7oMEbIix"
      },
      "outputs": [],
      "source": [
        "# Train logistic regression\n",
        "# You should get the optimal weights and a list of objective values by using gradient_descent function.\n",
        "\n",
        "w_sgd, objvals_sgd = sgd(x_train, y_train, 0, 0.1, 1000)"
      ]
    },
    {
      "cell_type": "code",
      "execution_count": 107,
      "metadata": {
        "id": "YxXOHGmVbIix"
      },
      "outputs": [],
      "source": [
        "# Train regularized logistric regression\n",
        "# You should get the optimal weights and a list of objective values by using gradient_descent function.\n",
        "w_sgd_reg, objvals_sgd_reg = gradient_descent(x_train, y_train, lam, 0.1, 1000)"
      ]
    },
    {
      "cell_type": "markdown",
      "metadata": {
        "id": "tlFsSEoXbIiy"
      },
      "source": [
        "## 3.3 Mini-Batch Gradient Descent (MBGD)"
      ]
    },
    {
      "cell_type": "markdown",
      "metadata": {
        "id": "fcNPs4-ebIiy"
      },
      "source": [
        "Define $Q_I (w) = \\frac{1}{b} \\sum_{i \\in I} \\log \\Big( 1 + \\exp \\big( - y_i x_i^T w \\big) \\Big) + \\frac{\\lambda}{2} \\| w \\|_2^2 $, where $I$ is a set containing $b$ indices randomly drawn from $\\{ 1, \\cdots , n \\}$ without replacement.\n",
        "\n",
        "The stochastic gradient at $w$ is $g_I = \\frac{\\partial Q_I }{ \\partial w} = \\frac{1}{b} \\sum_{i \\in I} \\frac{- y_i x_i }{1 + \\exp ( y_i x_i^T w)} + \\lambda w$.\n",
        "\n",
        "You may need to implement a new function to calculate the new objective function and gradients."
      ]
    },
    {
      "cell_type": "code",
      "execution_count": 77,
      "metadata": {
        "id": "ESj76P-BbIiz"
      },
      "outputs": [],
      "source": [
        "# Calculate the objective Q_I and the gradient of Q_I\n",
        "# Inputs:\n",
        "#     w: weights: d-by-b matrix\n",
        "#     xi: data: b-by-d matrix\n",
        "#     yi: label: scalar\n",
        "#     lam: scalar, the regularization parameter\n",
        "# Return:\n",
        "#     obj: scalar, the objective Q_i\n",
        "#     g: d-by-1 matrix, gradient of Q_i\n",
        "\n",
        "def mb_objective_gradient(w, xi, yi, lam):\n",
        "  yixi = np.multiply(yi,xi)\n",
        "  yixiw = np.dot(yixi,w)\n",
        "  obj = np.mean(np.log(1 + np.exp(-yixiw))) + (lam / 2) * np.sum(np.square(w))\n",
        "\n",
        "  g = np.mean(np.divide(-yixi , (1 + np.exp(yixiw))),axis = 0).reshape(xi.shape[1],1) + lam * w\n",
        "\n",
        "  return obj, g"
      ]
    },
    {
      "cell_type": "markdown",
      "metadata": {
        "id": "9wMfoN7ibIiz"
      },
      "source": [
        "Hints:\n",
        "1. In every epoch, randomly permute the $n$ samples (just like SGD).\n",
        "2. Each epoch has $\\frac{n}{b}$ iterations. In every iteration, use $b$ samples, and compute the gradient and objective using the ``mb_objective_gradient`` function. In the next iteration, use the next $b$ samples, and so on."
      ]
    },
    {
      "cell_type": "code",
      "execution_count": 115,
      "metadata": {
        "id": "5GEzanzHbIi0"
      },
      "outputs": [],
      "source": [
        "# MBGD for solving logistic regression\n",
        "# You will need to do iterative process (loops) to obtain optimal weights in this function\n",
        "\n",
        "# Inputs:\n",
        "#     x: data: n-by-d matrix\n",
        "#     y: label: n-by-1 matrix\n",
        "#     lam: scalar, the regularization parameter\n",
        "#     learning_rate: scalar\n",
        "#     w: weights: d-by-1 matrix, initialization of w\n",
        "#     max_epoch: integer, the maximal epochs\n",
        "# Return:\n",
        "#     w: weights: d-by-1 matrix, the solution\n",
        "#     objvals: a record of each epoch's objective value\n",
        "#     Record one objective value per epoch (not per iteration)\n",
        "\n",
        "def mbgd(x, y, lam, learning_rate,batch_size,max_epoch=100):\n",
        "  objvals = [0] * max_epoch\n",
        "  b = 20\n",
        "  # print(y.shape)\n",
        "  w = np.zeros((x_train.shape[1], 1))\n",
        "  \n",
        "  y = np.array(y).reshape((x.shape[0], 1))\n",
        "\n",
        "  for i in range(max_epoch):\n",
        "    random_samples = np.random.permutation(x.shape[0])\n",
        "    x_rand_samples = x[random_samples,: ]\n",
        "    y_rand_samples = y[random_samples,:]\n",
        "\n",
        "    objval = 0\n",
        "    for k in range(x.shape[0] // b):\n",
        "      xBatch = x_rand_samples[k * b: k * b + b]\n",
        "      # print(x.shape)\n",
        "      yBatch = y_rand_samples[k * b: k * b + b]\n",
        "      obj, g = mb_objective_gradient(w, xBatch, yBatch, lam)\n",
        "      objval += obj\n",
        "      temp = np.multiply(learning_rate, g)\n",
        "      w -= temp\n",
        "    \n",
        "    objval /= b\n",
        "    objvals[i] = objval\n",
        "\n",
        "  return w, objvals"
      ]
    },
    {
      "cell_type": "markdown",
      "metadata": {
        "id": "UesJI97YbIi0"
      },
      "source": [
        "Use mbgd function to obtain your optimal weights and a list of objective values over each epoch."
      ]
    },
    {
      "cell_type": "code",
      "execution_count": 122,
      "metadata": {
        "id": "XXvzNVNDbIi1"
      },
      "outputs": [],
      "source": [
        "# Train logistic regression\n",
        "# You should get the optimal weights and a list of objective values by using gradient_descent function.\n",
        "w_mbgd, objvals_mbgd = mbgd(x_train, y_train, 0, 0.1, 50, 1000)"
      ]
    },
    {
      "cell_type": "code",
      "execution_count": 124,
      "metadata": {
        "id": "sPUdhdySbIi2"
      },
      "outputs": [],
      "source": [
        "# Train regularized logistric regression\n",
        "# You should get the optimal weights and a list of objective values by using gradient_descent function.\n",
        "w_mbgd_reg, objvals_mbgd_reg = mbgd(x_train, y_train, 1E-6, 0.1, 50, 1000)"
      ]
    },
    {
      "cell_type": "markdown",
      "metadata": {
        "id": "zJYskEnrbIi2"
      },
      "source": [
        "# 4. Compare GD, SGD, MBGD\n",
        "\n",
        "### Plot objective function values against epochs."
      ]
    },
    {
      "cell_type": "code",
      "execution_count": 125,
      "metadata": {
        "id": "2gvbMDFlbIi3",
        "colab": {
          "base_uri": "https://localhost:8080/",
          "height": 297
        },
        "outputId": "b1322778-d312-4f60-ec2a-aca5f73987a2"
      },
      "outputs": [
        {
          "output_type": "display_data",
          "data": {
            "image/png": "[encoded data removed]",
            "text/plain": [
              "<Figure size 432x288 with 1 Axes>"
            ]
          },
          "metadata": {
            "needs_background": "light"
          }
        }
      ],
      "source": [
        "import matplotlib.pyplot as plt\n",
        "%matplotlib inline\n",
        "\n",
        "\n",
        "epochs_gd = range(len(objvals))\n",
        "epochs_sgd = range(len(objvals_sgd))\n",
        "epochs_mbgd = range(len(objvals_mbgd))\n",
        "\n",
        "l1, = plt.plot(epochs_gd, objvals)\n",
        "l2, = plt.plot(epochs_sgd, objvals_sgd)\n",
        "l3, = plt.plot(epochs_mbgd, objvals_mbgd)\n",
        "plt.title(\"Objective Function vs Epochs\")\n",
        "plt.xlabel('Epoch')\n",
        "plt.ylabel('Objective Function Value')\n",
        "plt.legend([l1, l2, l3], ['Gradient descent', 'Stochastic Gradient descent', 'Mini-Batch Gradient descent'])\n",
        "plt.tight_layout()\n",
        "\n",
        "plt.show()\n"
      ]
    },
    {
      "cell_type": "markdown",
      "metadata": {
        "id": "X7fCS0ECbIi3"
      },
      "source": [
        "# 5. Prediction\n",
        "### Compare the training and testing accuracy for logistic regression and regularized logistic regression."
      ]
    },
    {
      "cell_type": "code",
      "execution_count": 132,
      "metadata": {
        "id": "jAxkJrILbIi4"
      },
      "outputs": [],
      "source": [
        "# Predict class label\n",
        "# Inputs:\n",
        "#     w: weights: d-by-1 matrix\n",
        "#     X: data: m-by-d matrix\n",
        "# Return:\n",
        "#     f: m-by-1 matrix, the predictions\n",
        "def predict(w, X):\n",
        "    xw = (np.dot(X, w))\n",
        "    f = np.array([1 if i > 0 else -1 for i in xw])\n",
        "    return f"
      ]
    },
    {
      "cell_type": "code",
      "execution_count": 133,
      "metadata": {
        "id": "2iL3KiCWbIi4",
        "colab": {
          "base_uri": "https://localhost:8080/"
        },
        "outputId": "f5130d6d-ca99-4ea1-e15c-12fb45345e7c"
      },
      "outputs": [
        {
          "output_type": "stream",
          "name": "stdout",
          "text": [
            "Accuracy for GD is: 0.989010989010989\n",
            "Accuracy for GD regularized is: 0.989010989010989\n",
            "Accuracy for SGD is: 0.989010989010989\n",
            "Accuracy for SGD regularized is: 0.989010989010989\n",
            "Accuracy for MBGD is: 0.989010989010989\n",
            "Accuracy for MBGD regularized is: 0.9868131868131869\n"
          ]
        }
      ],
      "source": [
        "# evaluate training error of logistric regression and regularized version\n",
        "# GD\n",
        "predict_train = predict(w, x_train)\n",
        "error = np.mean(np.abs(predict_train - y_train) / 2)\n",
        "print(\"Accuracy for GD is: \" + str(1 - error))\n",
        "# GD regularized\n",
        "predict_train_reg = predict(w_reg, x_train)\n",
        "error_reg = np.mean(np.abs(predict_train_reg - y_train) / 2)\n",
        "print(\"Accuracy for GD regularized is: \" + str(1 - error_reg))\n",
        "# SGD\n",
        "predict_train_sgd = predict(w_sgd, x_train)\n",
        "error_sgd = np.mean(np.abs(predict_train_sgd - y_train) / 2)\n",
        "print(\"Accuracy for SGD is: \" + str(1 - error_sgd))\n",
        "# SGD regularized\n",
        "predict_train_sgd_reg = predict(w_sgd_reg, x_train)\n",
        "error_sgd_reg = np.mean(np.abs(predict_train_sgd_reg - y_train) / 2)\n",
        "print(\"Accuracy for SGD regularized is: \" + str(1 - error_sgd_reg))\n",
        "# MBGD\n",
        "predict_train_mbgd = predict(w_mbgd, x_train)\n",
        "error_mbgd = np.mean(np.abs(predict_train_sgd - y_train) / 2)\n",
        "print(\"Accuracy for MBGD is: \" + str(1 - error_mbgd))\n",
        "# MBGD regularized\n",
        "predict_train_mbgd_reg = predict(w_mbgd_reg, x_train)\n",
        "error_mbgd_reg = np.mean(np.abs(predict_train_mbgd_reg - y_train) / 2)\n",
        "print(\"Accuracy for MBGD regularized is: \" + str(1 - error_mbgd_reg))"
      ]
    },
    {
      "cell_type": "code",
      "execution_count": 134,
      "metadata": {
        "id": "N8-ViV3JbIi5",
        "colab": {
          "base_uri": "https://localhost:8080/"
        },
        "outputId": "37806900-2837-4ef8-d715-4dfe2801046e"
      },
      "outputs": [
        {
          "output_type": "stream",
          "name": "stdout",
          "text": [
            "Accuracy for GD is: 0.9649122807017544\n",
            "Accuracy for GD regularized is: 0.9649122807017544\n",
            "Accuracy for SGD is: 0.9473684210526316\n",
            "Accuracy for SGD regularized is: 0.9649122807017544\n",
            "Accuracy for MBGD is: 0.9473684210526316\n",
            "Accuracy for MBGD regularized is: 0.956140350877193\n"
          ]
        }
      ],
      "source": [
        "# evaluate testing error of logistric regression and regularized version\n",
        "# GD\n",
        "predict_test = predict(w, x_test)\n",
        "error = np.mean(np.abs(predict_test - y_test) / 2)\n",
        "print(\"Accuracy for GD is: \" + str(1 - error))\n",
        "# GD regularized\n",
        "predict_test_reg = predict(w_reg, x_test)\n",
        "error = np.mean(np.abs(predict_test_reg - y_test) / 2)\n",
        "print(\"Accuracy for GD regularized is: \" + str(1 - error))\n",
        "# SGD\n",
        "predict_test_sgd = predict(w_sgd, x_test)\n",
        "error = np.mean(np.abs(predict_test_sgd - y_test) / 2)\n",
        "print(\"Accuracy for SGD is: \" + str(1 - error))\n",
        "# SGD regularized\n",
        "predict_test_sgd_reg = predict(w_sgd_reg, x_test)\n",
        "error = np.mean(np.abs(predict_test_sgd_reg - y_test) / 2)\n",
        "print(\"Accuracy for SGD regularized is: \" + str(1 - error))\n",
        "# MBGD\n",
        "predict_test_mbgd = predict(w_mbgd, x_test)\n",
        "error = np.mean(np.abs(predict_test_sgd - y_test) / 2)\n",
        "print(\"Accuracy for MBGD is: \" + str(1 - error))\n",
        "# MBGD regularized\n",
        "predict_test_mbgd_reg = predict(w_mbgd_reg, x_test)\n",
        "error = np.mean(np.abs(predict_test_mbgd_reg - y_test) / 2)\n",
        "print(\"Accuracy for MBGD regularized is: \" + str(1 - error))"
      ]
    },
    {
      "cell_type": "markdown",
      "metadata": {
        "id": "v2c0LuLhbIi5"
      },
      "source": [
        "# 6. Parameters tuning"
      ]
    },
    {
      "cell_type": "markdown",
      "metadata": {
        "id": "bT8by-UabIi5"
      },
      "source": [
        "### In this section, you may try different combinations of parameters (regularization value, learning rate, etc) to see their effects on the model. (Open ended question)"
      ]
    },
    {
      "cell_type": "code",
      "execution_count": 25,
      "metadata": {
        "id": "Kafq-EOybIi6"
      },
      "outputs": [],
      "source": [
        ""
      ]
    }
  ],
  "metadata": {
    "kernelspec": {
      "display_name": "Python 3",
      "language": "python",
      "name": "python3"
    },
    "language_info": {
      "codemirror_mode": {
        "name": "ipython",
        "version": 3
      },
      "file_extension": ".py",
      "mimetype": "text/x-python",
      "name": "python",
      "nbconvert_exporter": "python",
      "pygments_lexer": "ipython3",
      "version": "3.7.3"
    },
    "colab": {
      "name": "Vatsal_Shah_Assignment1.ipynb",
      "provenance": [],
      "collapsed_sections": []
    }
  },
  "nbformat": 4,
  "nbformat_minor": 0
}